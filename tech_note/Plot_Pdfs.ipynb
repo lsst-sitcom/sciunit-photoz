{
 "cells": [
  {
   "cell_type": "code",
   "execution_count": null,
   "id": "01b2ac6c-fd22-4e97-a685-cfa7b97f5b5b",
   "metadata": {},
   "outputs": [],
   "source": [
    "import tables_io\n",
    "import numpy as np\n",
    "import matplotlib.pyplot as plt\n",
    "import qp"
   ]
  },
  {
   "cell_type": "code",
   "execution_count": null,
   "id": "b0d963f6-8673-4c24-95e2-bd968e16d4de",
   "metadata": {},
   "outputs": [],
   "source": [
    "algo = 'tpz'\n",
    "data = qp.read(f'{algo}_5063_gold_baseline_v0.hdf5')\n",
    "#cat = tables_io.read('/Users/echarles/pz/data/dp1_v29.0.0/5063/object.parquet')"
   ]
  },
  {
   "cell_type": "code",
   "execution_count": null,
   "id": "8c994029-a1cd-4edb-b1bf-90972dbdf1c3",
   "metadata": {},
   "outputs": [],
   "source": [
    "#cat['objectId'][23]"
   ]
  },
  {
   "cell_type": "code",
   "execution_count": null,
   "id": "dcfac113-94f5-44fe-a7d2-294ddae19e9b",
   "metadata": {},
   "outputs": [],
   "source": [
    "def print_obj(cat, idx, col_names=None):\n",
    "    if col_names is None:\n",
    "        col_names = list(cat.column_names)\n",
    "    for col_name_ in col_names:\n",
    "        print(col_name_, cat[col_name_][idx])"
   ]
  },
  {
   "cell_type": "code",
   "execution_count": null,
   "id": "11c1c685-ea06-4a9c-ace1-8c24da531f01",
   "metadata": {},
   "outputs": [],
   "source": [
    "col_names = [f\"{band}_psfFlux\" for band in 'ugrizy']\n",
    "col_names += [f\"{band}_extendedness\" for band in 'griz']\n",
    "col_names += ['objectId']\n",
    "#print_obj(cat, 23, col_names)"
   ]
  },
  {
   "cell_type": "code",
   "execution_count": null,
   "id": "f6b9bc46-4509-4a55-9459-e1ee1136608c",
   "metadata": {},
   "outputs": [],
   "source": [
    "grid = np.linspace(0., 60., 301)"
   ]
  },
  {
   "cell_type": "code",
   "execution_count": null,
   "id": "1a81e35c-d700-446e-976a-f0d042a6fb6b",
   "metadata": {},
   "outputs": [],
   "source": [
    "data[0].ancil.keys()"
   ]
  },
  {
   "cell_type": "code",
   "execution_count": null,
   "id": "2b5d2484-47b5-4c0f-8a31-5fc12b7c44f9",
   "metadata": {},
   "outputs": [],
   "source": [
    "def nice_plot(subdata, grid=None):\n",
    "    fig = plt.figure()\n",
    "    if grid is None:\n",
    "        grid = np.linspace(0., 3., 301)\n",
    "    cdfs = subdata.cdf(grid)\n",
    "    pdfs = subdata.pdf(grid)    \n",
    "    _ = plt.plot(grid, cdfs, label='cdf')\n",
    "    _ = plt.plot(grid, pdfs/pdfs.max(), label='pdf')\n",
    "    _ = plt.axvline(x=subdata.ancil['z_q2p5'], linestyle='dotted', color='gray')\n",
    "    _ = plt.axvline(x=subdata.ancil['z_q84'], linestyle='dashdot', color='gray')\n",
    "    _ = plt.axvline(x=subdata.ancil['z_median'], linestyle='dashed', color='gray')\n",
    "    _ = plt.axvline(x=subdata.ancil['z_q16'], linestyle='dashdot', color='gray')\n",
    "    _ = plt.axvline(x=subdata.ancil['z_97p5'], linestyle='dotted', color='gray')\n",
    "    \n",
    "    _ = plt.legend()\n",
    "    zmode = subdata.ancil['z_mode'][0]\n",
    "    zmean = subdata.ancil['z_mean'][0]\n",
    "    zmedian = subdata.ancil['z_median'][0]\n",
    "    zstd = subdata.ancil['z_std'][0]\n",
    "    zq16 = subdata.ancil['z_q16'][0]\n",
    "    zq84 = subdata.ancil['z_q84'][0]\n",
    "    zq025 = subdata.ancil['z_q2p5'][0]\n",
    "    zq975 = subdata.ancil['z_97p5'][0]    \n",
    "    _ = plt.annotate(f\"mode: {zmode:0.3f}\", xy=(0.4, 0.8)) \n",
    "    _ = plt.annotate(f\"mean: {zmean:0.3f}\", xy=(0.4, 0.75))     \n",
    "    _ = plt.annotate(f\"std: {zstd:0.3f}\", xy=(0.4, 0.7)) \n",
    "    _ = plt.annotate(f\"q16 -- q86: {zq16:0.3f} -- {zq84:0.3f}\", xy=(0.4, 0.65))\n",
    "    _ = plt.annotate(f\"q2.5 -- q97.5: {zq025:0.3f} -- {zq975:0.3f}\", xy=(0.4, 0.60))\n",
    "    return fig"
   ]
  },
  {
   "cell_type": "code",
   "execution_count": null,
   "id": "abd61570-7972-4fe6-a366-d2e02155bab5",
   "metadata": {},
   "outputs": [],
   "source": [
    "qp_dstn = data"
   ]
  },
  {
   "cell_type": "code",
   "execution_count": null,
   "id": "015a82dc-a26e-4a93-8a07-d43565b265e1",
   "metadata": {},
   "outputs": [],
   "source": [
    "grid = np.linspace(0., 3., 301)"
   ]
  },
  {
   "cell_type": "code",
   "execution_count": null,
   "id": "b0ed5ce9-1f51-4127-acce-946e264d28ca",
   "metadata": {},
   "outputs": [],
   "source": [
    "# qp_dstn.mode(grid)"
   ]
  },
  {
   "cell_type": "code",
   "execution_count": null,
   "id": "4148ff8c-ba99-4a13-8e16-4d9b856e34b9",
   "metadata": {},
   "outputs": [],
   "source": [
    "qp_dstn.mean()"
   ]
  },
  {
   "cell_type": "code",
   "execution_count": null,
   "id": "e3b0ce02-16a8-4199-bcf9-f1a545c53f1f",
   "metadata": {},
   "outputs": [],
   "source": [
    "qp_dstn.std()"
   ]
  },
  {
   "cell_type": "code",
   "execution_count": null,
   "id": "7dfca5b8-6735-41a0-9298-96d184c4eaea",
   "metadata": {},
   "outputs": [],
   "source": [
    "def my_mean_std(qp_dstn, grid):\n",
    "    pdfs = qp_dstn.pdf(grid)\n",
    "    norms = pdfs.sum(axis=1)\n",
    "    means = np.sum(pdfs * grid, axis=1) / norms\n",
    "    diffs = (np.expand_dims(grid, -1) - means).T\n",
    "    wt_diffs = diffs * diffs * pdfs\n",
    "    stds = np.sqrt((wt_diffs).sum(axis=1)/norms)            \n",
    "    return means, stds\n"
   ]
  },
  {
   "cell_type": "code",
   "execution_count": null,
   "id": "68699160-ab9c-4bd4-9274-3a606fc047b9",
   "metadata": {},
   "outputs": [],
   "source": [
    "means, stds, = my_mean_std(qp_dstn, grid)"
   ]
  },
  {
   "cell_type": "code",
   "execution_count": null,
   "id": "68f20c42-3a91-431f-bdfa-96505384a6f9",
   "metadata": {},
   "outputs": [],
   "source": [
    "#dir(qp_dstn.dist)"
   ]
  },
  {
   "cell_type": "code",
   "execution_count": null,
   "id": "e0aa3d3d-8cb9-4786-86de-ca1ef098cf39",
   "metadata": {},
   "outputs": [],
   "source": []
  },
  {
   "cell_type": "code",
   "execution_count": null,
   "id": "45f136e9-79db-419d-8f32-ee8c54e120ef",
   "metadata": {},
   "outputs": [],
   "source": [
    "fig = nice_plot(data[11556], grid=np.linspace(0.1, 0.6, 101))"
   ]
  },
  {
   "cell_type": "code",
   "execution_count": null,
   "id": "a262d4cd-c8af-4102-8c93-0cd43ed4bccb",
   "metadata": {},
   "outputs": [],
   "source": [
    "np.argmin(data[slice(000, 20000)].ancil['z_std'], axis=0)"
   ]
  },
  {
   "cell_type": "code",
   "execution_count": null,
   "id": "7e85a581-964f-4355-802d-da4a0190b10c",
   "metadata": {},
   "outputs": [],
   "source": [
    "data[55].ancil"
   ]
  },
  {
   "cell_type": "code",
   "execution_count": null,
   "id": "e673ba53-a1cd-4a38-803b-2f13b06529b2",
   "metadata": {},
   "outputs": [],
   "source": [
    "fig.savefig('pdf.pdf')"
   ]
  },
  {
   "cell_type": "code",
   "execution_count": null,
   "id": "c5e10f9a-7c67-4aea-a566-04f679baaece",
   "metadata": {},
   "outputs": [],
   "source": [
    "fig = nice_plot(data[534])"
   ]
  },
  {
   "cell_type": "code",
   "execution_count": null,
   "id": "168b4be3-4613-4bd7-8222-0acfa4e687f4",
   "metadata": {},
   "outputs": [],
   "source": [
    "fig.savefig('bad_pdf.pdf')"
   ]
  },
  {
   "cell_type": "code",
   "execution_count": null,
   "id": "388cc67f-5c39-42c9-adec-b3ecb8ab3292",
   "metadata": {},
   "outputs": [],
   "source": []
  }
 ],
 "metadata": {
  "kernelspec": {
   "display_name": "Python 3 (ipykernel)",
   "language": "python",
   "name": "python3"
  },
  "language_info": {
   "codemirror_mode": {
    "name": "ipython",
    "version": 3
   },
   "file_extension": ".py",
   "mimetype": "text/x-python",
   "name": "python",
   "nbconvert_exporter": "python",
   "pygments_lexer": "ipython3",
   "version": "3.13.3"
  }
 },
 "nbformat": 4,
 "nbformat_minor": 5
}
