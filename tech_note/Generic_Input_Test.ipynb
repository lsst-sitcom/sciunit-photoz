{
 "cells": [
  {
   "cell_type": "code",
   "execution_count": null,
   "id": "e03a8896-6b75-4d5f-88bc-58baba9171ff",
   "metadata": {},
   "outputs": [],
   "source": [
    "import tables_io\n",
    "import numpy as np\n",
    "import matplotlib.pyplot as plt\n",
    "from rail.raruma import plotting_functions as raruma_plot\n",
    "from rail.raruma import utility_functions as raruma_util"
   ]
  },
  {
   "cell_type": "code",
   "execution_count": null,
   "id": "fc793f64-07cd-46ca-ba19-a88d68b2ba66",
   "metadata": {},
   "outputs": [],
   "source": [
    "seds = [    \n",
    "    'El_B2004a',\n",
    "    'Sbc_B2004a',\n",
    "    'Scd_B2004a',\n",
    "    'Im_B2004a',\n",
    "    'SB3_B2004a',\n",
    "    'SB2_B2004a',\n",
    "    'ssp_25Myr_z008',\n",
    "    'ssp_5Myr_z008',\n",
    "]\n",
    "seds_2 = [    \n",
    "    'El_B2004a',\n",
    "    'Sbc_B2004a',\n",
    "    'Scd_B2004a',\n",
    "    'Im_B2004a',\n",
    "    'SB3_B2004a',\n",
    "    'SB2_B2004a',\n",
    "    'ssp_25Myr_z008',\n",
    "    'ssp_5Myr_z008',\n",
    "]\n",
    "\n",
    "dataset = 'DP1'\n",
    "if dataset == 'Rubin':\n",
    "    input_file = '/Users/echarles/pz/sandbox_data/roman_rubin_9925.hdf5'\n",
    "    band_template = 'LSST_obs_{band}'\n",
    "    bands = 'ugrizy'\n",
    "    filters = ['DC2LSST_u', 'DC2LSST_g', 'DC2LSST_r', 'DC2LSST_i', 'DC2LSST_z', 'DC2LSST_y']\n",
    "    labels = ['u-g', 'g-i', 'r-i', 'i-z', 'z-y']\n",
    "    redshift_col = 'redshift'\n",
    "    sample = 100\n",
    "elif dataset == 'ComCam':\n",
    "    input_file = '/Users/echarles/pz/data/test/com_cam_secured_matched_test.hdf5'\n",
    "    band_template = '{band}_cModelMag'\n",
    "    bands = 'ugrizy'\n",
    "    filters = ['DC2LSST_u', 'DC2LSST_g', 'DC2LSST_r', 'DC2LSST_i', 'DC2LSST_z', 'DC2LSST_y']\n",
    "    labels = ['u-g', 'g-i', 'r-i', 'i-z', 'z-y']\n",
    "    redshift_col = 'redshift'\n",
    "    sample = 1\n",
    "elif dataset == 'DC2':\n",
    "    input_file = '/Users/echarles/pz/data/test/dc2_run2p2i_dr6_test_dered.hdf5'\n",
    "    band_template = 'mag_{band}_lsst'\n",
    "    bands = 'grizy'\n",
    "    filters = ['DC2LSST_g', 'DC2LSST_r', 'DC2LSST_i', 'DC2LSST_z', 'DC2LSST_y']\n",
    "    labels = ['g-i', 'r-i', 'i-z', 'z-y']\n",
    "    redshift_col = 'redshift_true'\n",
    "    sample = 1    \n",
    "elif dataset == 'HSC':\n",
    "    input_file = '/Users/echarles/pz/data/test/hsc_pdr3_wide_test_curated.hdf5'\n",
    "    band_template = 'HSC{band}_cmodel_dered'\n",
    "    bands = 'grizy'\n",
    "    filters = ['DC2LSST_g', 'DC2LSST_r', 'DC2LSST_i', 'DC2LSST_z', 'DC2LSST_y']\n",
    "    labels = ['g-i', 'r-i', 'i-z', 'z-y']\n",
    "    redshift_col = 'specz_redshift'\n",
    "    sample = 1    \n",
    "elif dataset == 'LSST':\n",
    "    input_file = '/Users/echarles/pz/sandbox_data/cdfs_matched_hst_dereddened.hdf5'\n",
    "    band_template = \"{band}_sersicMag\"\n",
    "    bands = 'ugrizy'\n",
    "    filters = ['DC2LSST_u', 'DC2LSST_g', 'DC2LSST_r', 'DC2LSST_i', 'DC2LSST_z', 'DC2LSST_y']\n",
    "    labels = ['u-g', 'g-i', 'r-i', 'i-z', 'z-y']\n",
    "    redshift_col = 'redshift'\n",
    "    sample = 1  \n",
    "elif dataset == 'DP1':\n",
    "    input_file = '/Users/echarles/pz/data/train/dp1_matched_train.hdf5'\n",
    "    band_template = \"{band}_gaap1p0Mag\"\n",
    "    bands = 'ugrizy'\n",
    "    #filters = ['comcam_u', 'comcam_g', 'comcam_r', 'comcam_i', 'comcam_z', 'comcam_y']\n",
    "    filters = ['DC2LSST_u', 'DC2LSST_g', 'DC2LSST_r', 'DC2LSST_i', 'DC2LSST_z', 'DC2LSST_y']\n",
    "    labels = ['u-g', 'g-i', 'r-i', 'i-z', 'z-y']\n",
    "    redshift_col = 'redshift'\n",
    "    sample = 1\n",
    "    \n",
    "    \n",
    "mag_labels = [f'Mag {band}' for band in bands]"
   ]
  },
  {
   "cell_type": "code",
   "execution_count": null,
   "id": "ad762d0a-05e9-45e0-b179-367ff3692dd7",
   "metadata": {},
   "outputs": [],
   "source": [
    "data = tables_io.read(input_file)\n",
    "band_names = raruma_util.make_band_names(band_template, bands)\n",
    "mags = raruma_util.extract_data_to_2d_array(data, band_names)\n",
    "colors = raruma_util.adjacent_band_colors(mags)\n",
    "redshifts = data[redshift_col]"
   ]
  },
  {
   "cell_type": "code",
   "execution_count": null,
   "id": "e3c3388b-448d-48d2-9e66-d9cd3466fd7e",
   "metadata": {},
   "outputs": [],
   "source": [
    "detect = np.isfinite(mags)"
   ]
  },
  {
   "cell_type": "code",
   "execution_count": null,
   "id": "821f8c60-be04-4ff2-b0b5-b50594f5185c",
   "metadata": {},
   "outputs": [],
   "source": [
    "(mags[:,3] < 26.0).sum()"
   ]
  },
  {
   "cell_type": "code",
   "execution_count": null,
   "id": "9de731f0-cacd-4658-aac2-324afc77a985",
   "metadata": {},
   "outputs": [],
   "source": [
    "detect_6_band = detect.sum(axis=1) == 6"
   ]
  },
  {
   "cell_type": "code",
   "execution_count": null,
   "id": "173a28a0-b1d6-41c0-ae59-445f08e92582",
   "metadata": {},
   "outputs": [],
   "source": [
    "template_dict = raruma_util.build_template_dict(seds, filters)"
   ]
  },
  {
   "cell_type": "code",
   "execution_count": null,
   "id": "dd81e844-e0ee-4397-92b9-af0fd746ff23",
   "metadata": {},
   "outputs": [],
   "source": [
    "_ = raruma_plot.plot_colors_v_redshifts_with_templates(redshifts[::sample], colors[::sample], zmax=3., templates=template_dict, labels=labels)"
   ]
  },
  {
   "cell_type": "code",
   "execution_count": null,
   "id": "00753908-5002-44c4-a4da-cdbfdb19266a",
   "metadata": {},
   "outputs": [],
   "source": [
    "_ = raruma_plot.plot_colors_v_colors_with_templates(redshifts, colors[detect_6_band][::100], templates=template_dict, labels=labels)"
   ]
  },
  {
   "cell_type": "code",
   "execution_count": null,
   "id": "a3ae0c7e-ac25-4b8b-9e41-e484364b1319",
   "metadata": {},
   "outputs": [],
   "source": [
    "_ = raruma_plot.plot_features_target_scatter(mags, redshifts[::sample], labels=mag_labels)"
   ]
  },
  {
   "cell_type": "code",
   "execution_count": null,
   "id": "f6a72837-b529-4bb1-bf50-61a145cdee5c",
   "metadata": {},
   "outputs": [],
   "source": [
    "_ = raruma_plot.plot_feature_histograms(mags, labels=mag_labels)"
   ]
  },
  {
   "cell_type": "code",
   "execution_count": null,
   "id": "937e64b5-40b0-4cc0-a1fb-7a48be04128c",
   "metadata": {},
   "outputs": [],
   "source": []
  },
  {
   "cell_type": "code",
   "execution_count": null,
   "id": "27f28cca-3ab1-4a6f-b68d-2acd8281605d",
   "metadata": {},
   "outputs": [],
   "source": []
  },
  {
   "cell_type": "code",
   "execution_count": null,
   "id": "7536fdb5-41ae-42b6-a711-d496fc2d7d9d",
   "metadata": {},
   "outputs": [],
   "source": []
  }
 ],
 "metadata": {
  "kernelspec": {
   "display_name": "Python 3 (ipykernel)",
   "language": "python",
   "name": "python3"
  },
  "language_info": {
   "codemirror_mode": {
    "name": "ipython",
    "version": 3
   },
   "file_extension": ".py",
   "mimetype": "text/x-python",
   "name": "python",
   "nbconvert_exporter": "python",
   "pygments_lexer": "ipython3",
   "version": "3.13.3"
  }
 },
 "nbformat": 4,
 "nbformat_minor": 5
}
