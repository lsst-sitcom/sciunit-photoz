{
 "cells": [
  {
   "cell_type": "code",
   "execution_count": null,
   "id": "978ed7a6-3be2-4e8b-9093-8ba11a523488",
   "metadata": {},
   "outputs": [],
   "source": [
    "import tables_io\n",
    "import numpy as np\n",
    "import matplotlib.pyplot as plt\n",
    "from matplotlib.figure import Figure\n",
    "from matplotlib import colors, cm\n",
    "from rail.raruma import plotting_functions as raruma_plot\n",
    "from rail.raruma import utility_functions as raruma_util"
   ]
  },
  {
   "cell_type": "code",
   "execution_count": null,
   "id": "8ceb1bac-5638-4628-a05b-98607a47025f",
   "metadata": {},
   "outputs": [],
   "source": [
    "seds = [    \n",
    "    'El_B2004a',\n",
    "    'Sbc_B2004a',\n",
    "    'Scd_B2004a',\n",
    "    'Im_B2004a',\n",
    "    'SB3_B2004a',\n",
    "    'SB2_B2004a',\n",
    "    'ssp_25Myr_z008',\n",
    "    'ssp_5Myr_z008',\n",
    "]\n",
    "seds_2 = [    \n",
    "    'El_B2004a',\n",
    "    'Sbc_B2004a',\n",
    "    'Scd_B2004a',\n",
    "    'Im_B2004a',\n",
    "    'SB3_B2004a',\n",
    "    'SB2_B2004a',\n",
    "    'ssp_25Myr_z008',\n",
    "    'ssp_5Myr_z008',\n",
    "]\n",
    "\n",
    "dataset = 'DP1'\n",
    "if dataset == 'DP1':\n",
    "    input_file = '/Users/echarles/pz/data/train/dp1_matched_train.hdf5'\n",
    "    band_template = \"{band}_gaap1p0Mag\"\n",
    "    bands = 'ugrizy'\n",
    "    #filters = ['comcam_u', 'comcam_g', 'comcam_r', 'comcam_i', 'comcam_z', 'comcam_y']\n",
    "    filters = ['DC2LSST_u', 'DC2LSST_g', 'DC2LSST_r', 'DC2LSST_i', 'DC2LSST_z', 'DC2LSST_y']\n",
    "    labels = ['u-g', 'g-i', 'r-i', 'i-z', 'z-y']\n",
    "    redshift_col = 'redshift'\n",
    "    sample = 1\n",
    "    \n",
    "    \n",
    "mag_labels = [f'Mag {band}' for band in bands]"
   ]
  },
  {
   "cell_type": "code",
   "execution_count": null,
   "id": "f6f36e1d-1c24-4d36-a9a3-c08700c18686",
   "metadata": {},
   "outputs": [],
   "source": [
    "data = tables_io.read(input_file)\n",
    "band_names = raruma_util.make_band_names(band_template, bands)\n",
    "mags = raruma_util.extract_data_to_2d_array(data, band_names)\n",
    "colors = raruma_util.adjacent_band_colors(mags)\n",
    "redshifts = data[redshift_col]"
   ]
  },
  {
   "cell_type": "code",
   "execution_count": null,
   "id": "a8c376f4-02b2-49f3-91ac-4d8eee5c272f",
   "metadata": {},
   "outputs": [],
   "source": [
    "detect = np.isfinite(mags)\n",
    "detect_6_band = detect.sum(axis=1) == 6"
   ]
  },
  {
   "cell_type": "code",
   "execution_count": null,
   "id": "f1b0a6f1-4d91-412f-b840-c7bbacb3eeec",
   "metadata": {},
   "outputs": [],
   "source": [
    "template_dict = raruma_util.build_template_dict(seds, filters)"
   ]
  },
  {
   "cell_type": "code",
   "execution_count": null,
   "id": "522a1718-acb8-4059-9781-47002b219712",
   "metadata": {},
   "outputs": [],
   "source": [
    "def plot_colors_v_redshifts_with_templates(\n",
    "    redshifts: np.ndarray,\n",
    "    colors: np.ndarray,\n",
    "    zmax: float=4.0,\n",
    "    templates: dict|None=None,\n",
    "    labels: list[str]|None=None,    \n",
    ") -> Figure:\n",
    "    \n",
    "    fig = plt.figure(figsize=(12, 16))\n",
    "    n_colors = colors.shape[-1]\n",
    "    nrow, ncol = (5, 1)\n",
    "    axs = fig.subplots(nrow, ncol)\n",
    "\n",
    "    for icolor in range(n_colors):\n",
    "        icol = int(icolor / ncol)\n",
    "        irow = icolor % ncol\n",
    "        #axs[icol].scatter(redshifts, colors[:,icolor], color='black', s=1)\n",
    "        axs[icol].hist2d(redshifts, colors[:,icolor], bins=(np.linspace(0., zmax, 201), np.linspace(-3., 3., 61)), cmap=\"binary\")\n",
    "        axs[icol].set_xlim(0, zmax)\n",
    "        axs[icol].set_ylim(-3., 3.)\n",
    "        if templates is not None:\n",
    "            for key, val in templates.items():\n",
    "                mask = val[0] < zmax\n",
    "                _ = axs[icol].plot(val[0][mask], val[2][icolor][mask], label=key, c=cm.rainbow(1.-val[3]/len(templates)), alpha=0.2)\n",
    "        # axs[icol][irow].legend()\n",
    "        axs[icol].set_xlabel(\"redshift\")\n",
    "        if labels is not None:\n",
    "            axs[icol].set_ylabel(labels[icolor])\n",
    "            \n",
    "    return fig\n"
   ]
  },
  {
   "cell_type": "code",
   "execution_count": null,
   "id": "6e7f9b29-13d7-459a-8a7e-e49ccbd42971",
   "metadata": {},
   "outputs": [],
   "source": [
    "the_fig = plot_colors_v_redshifts_with_templates(redshifts, colors, templates=template_dict, labels=labels)"
   ]
  },
  {
   "cell_type": "code",
   "execution_count": null,
   "id": "12446752-138e-434c-aa10-026be664fef4",
   "metadata": {},
   "outputs": [],
   "source": [
    "the_fig.savefig('color_v_redshift.pdf')"
   ]
  },
  {
   "cell_type": "code",
   "execution_count": null,
   "id": "652c8233-ec99-4765-822d-89dfa7111751",
   "metadata": {},
   "outputs": [],
   "source": [
    "def plot_colors_v_colors_with_templates(\n",
    "    redshifts: np.ndarray,\n",
    "    colors: np.ndarray,\n",
    "    zmax: float=4.0,\n",
    "    templates: dict|None=None,\n",
    "    labels: list[str]|None=None,    \n",
    ") -> Figure:\n",
    "\n",
    "    fig = plt.figure(figsize=(24, 24))\n",
    "    n_colors = colors.shape[-1]\n",
    "    nrow, ncol = n_colors-1, n_colors-1\n",
    "    axs = fig.subplots(nrow, ncol)\n",
    "\n",
    "    for icol in range(n_colors-1):        \n",
    "        for irow in range(n_colors-1):\n",
    "            if irow < icol:\n",
    "                axs[icol, irow].set_visible(False)\n",
    "                continue            \n",
    "            axs[icol][irow].set_xlim(-1.5, 1.5)\n",
    "            axs[icol][irow].set_ylim(-1.5, 1.5)\n",
    "            if labels is not None:\n",
    "                axs[icol][irow].set_ylabel(labels[icol])\n",
    "                axs[icol][irow].set_xlabel(labels[irow+1])\n",
    "            #axs[icol][irow].scatter(colors[:,icol], colors[:,irow+1], color='black', s=1)\n",
    "            axs[icol][irow].hist2d(colors[:,icol], colors[:,irow+1], bins=(np.linspace(-1.5, 1.5, 61), np.linspace(-1.5, 1.5, 61)), cmap=\"binary\")\n",
    "            if templates is not None:\n",
    "                for key, val in templates.items():\n",
    "                    mask = val[0] < zmax\n",
    "                    _ = axs[icol][irow].plot(val[2][icol][mask], val[2][irow+1][mask], label=key, c=cm.rainbow(1.-val[3]/len(templates)), alpha=0.5)\n",
    "            # axs[icol][irow].legend()\n",
    "    return fig\n"
   ]
  },
  {
   "cell_type": "code",
   "execution_count": null,
   "id": "6d992024-dc43-4d59-9530-fc98e7160f76",
   "metadata": {},
   "outputs": [],
   "source": [
    "the_fig = plot_colors_v_colors_with_templates(redshifts, colors, templates=template_dict, labels=labels)"
   ]
  },
  {
   "cell_type": "code",
   "execution_count": null,
   "id": "30976956-90b6-42e6-93ef-51ab9b98ebc8",
   "metadata": {},
   "outputs": [],
   "source": [
    "the_fig.savefig('color_v_color.pdf')"
   ]
  },
  {
   "cell_type": "code",
   "execution_count": null,
   "id": "8b5a9476-0cce-49b0-a6af-4749ab2edd60",
   "metadata": {},
   "outputs": [],
   "source": [
    "def plot_mag_i_v_redshift(\n",
    "    redshifts: np.ndarray,\n",
    "    mag_i: np.ndarray,\n",
    "    zmax: float=4.0,\n",
    ") -> Figure:\n",
    "\n",
    "    fig = plt.figure(figsize=(8, 8))\n",
    "    axs = fig.subplots(1, 1)\n",
    "\n",
    "    axs.set_xlim(0., zmax)\n",
    "    axs.set_ylim(16, 26)\n",
    "    \n",
    "    axs.set_xlabel('redshift')\n",
    "    axs.set_ylabel('i [Mag]')\n",
    "    \n",
    "    axs.hist2d(redshifts, mag_i, bins=(np.linspace(0, zmax, 201), np.linspace(16, 26, 101)), cmap=\"binary\")\n",
    "    return fig\n"
   ]
  },
  {
   "cell_type": "code",
   "execution_count": null,
   "id": "31257b6b-f088-42fc-95db-dae41c5d0bc2",
   "metadata": {},
   "outputs": [],
   "source": [
    "the_fig = plot_mag_i_v_redshift(redshifts, mags[:,3])"
   ]
  },
  {
   "cell_type": "code",
   "execution_count": null,
   "id": "7b5f2b6d-a4b3-48b6-8ac1-e7c218540f7b",
   "metadata": {},
   "outputs": [],
   "source": [
    "the_fig.savefig('mag_i_v_redshift.pdf')"
   ]
  },
  {
   "cell_type": "code",
   "execution_count": null,
   "id": "5c5af596-af71-4c8b-ae23-aab4fa458607",
   "metadata": {},
   "outputs": [],
   "source": [
    "def plot_mags(\n",
    "    mags: np.ndarray,\n",
    ") -> Figure:\n",
    "\n",
    "    fig = plt.figure(figsize=(8, 8))\n",
    "    axs = fig.subplots(1, 1)\n",
    "    n_mags = mags.shape[-1]\n",
    "\n",
    "    axs.set_xlim(16, 28)\n",
    "    \n",
    "    axs.set_xlabel('magnitude')\n",
    "    axs.set_ylabel('Objects / [0.1 mag]')\n",
    "\n",
    "    bands = 'ugrizy'\n",
    "    for i in range(n_mags):\n",
    "        axs.hist(mags[:,i], bins=np.linspace(16, 28, 121), color=cm.rainbow(i/n_mags), label=bands[i], alpha=0.2)\n",
    "    axs.legend()\n",
    "    return fig\n"
   ]
  },
  {
   "cell_type": "code",
   "execution_count": null,
   "id": "ccdc22ed-525e-4d60-b47b-745dc5c01002",
   "metadata": {},
   "outputs": [],
   "source": [
    "the_fig = plot_mags(mags)"
   ]
  },
  {
   "cell_type": "code",
   "execution_count": null,
   "id": "b28bb64f-71b5-4a80-83e0-ec36fbd81a6e",
   "metadata": {},
   "outputs": [],
   "source": [
    "the_fig.savefig('mags.pdf')"
   ]
  },
  {
   "cell_type": "code",
   "execution_count": null,
   "id": "d2aaf48a-0315-4ed7-92dd-4eb51526e4c0",
   "metadata": {},
   "outputs": [],
   "source": [
    "mags"
   ]
  },
  {
   "cell_type": "code",
   "execution_count": null,
   "id": "97eeb014-6c92-4e61-90f2-7c405b4de524",
   "metadata": {},
   "outputs": [],
   "source": []
  }
 ],
 "metadata": {
  "kernelspec": {
   "display_name": "Python 3 (ipykernel)",
   "language": "python",
   "name": "python3"
  },
  "language_info": {
   "codemirror_mode": {
    "name": "ipython",
    "version": 3
   },
   "file_extension": ".py",
   "mimetype": "text/x-python",
   "name": "python",
   "nbconvert_exporter": "python",
   "pygments_lexer": "ipython3",
   "version": "3.13.3"
  }
 },
 "nbformat": 4,
 "nbformat_minor": 5
}
