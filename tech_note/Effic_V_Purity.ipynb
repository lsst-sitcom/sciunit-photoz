{
 "cells": [
  {
   "cell_type": "code",
   "execution_count": null,
   "id": "65415f18-fd29-487a-8e51-c7624685a887",
   "metadata": {},
   "outputs": [],
   "source": [
    "import tables_io\n",
    "import numpy as np\n",
    "import matplotlib.pyplot as plt\n",
    "import qp\n",
    "from rail.core.data import DATA_STORE\n",
    "from rail.utils.catalog_utils import RomanRubinCatalogConfig\n",
    "DS = DATA_STORE()"
   ]
  },
  {
   "cell_type": "code",
   "execution_count": null,
   "id": "2e2d5845-bbeb-476f-8c80-3f85efdff5d9",
   "metadata": {},
   "outputs": [],
   "source": [
    "from rail.raruma import utility_functions as raruma_util\n",
    "from rail.raruma import plotting_functions as raruma_plot"
   ]
  },
  {
   "cell_type": "code",
   "execution_count": null,
   "id": "fb14d4cb-027b-4e21-8be5-84c4215e8744",
   "metadata": {},
   "outputs": [],
   "source": [
    "def calc_frac_dels(qp_dstn, truth):\n",
    "    delta = np.squeeze(qp_dstn.ancil['zmode']) - truth\n",
    "    return delta / (1 + truth)"
   ]
  },
  {
   "cell_type": "code",
   "execution_count": null,
   "id": "37db3508-85d9-455b-a8b5-b9faeea9f0c3",
   "metadata": {},
   "outputs": [],
   "source": [
    "def calc_std(qp_dstn, grid):\n",
    "    pdfs = qp_dstn.pdf(grid)\n",
    "    norms = pdfs.sum(axis=1)\n",
    "    means = np.sum(pdfs * grid, axis=1) / norms\n",
    "    diffs = (np.expand_dims(grid, -1) - means).T\n",
    "    wt_diffs = diffs * diffs * pdfs\n",
    "    stds = np.sqrt((wt_diffs).sum(axis=1)/norms)\n",
    "    return np.expand_dims(stds, -1)"
   ]
  },
  {
   "cell_type": "code",
   "execution_count": null,
   "id": "bc15166b-56ab-416b-9ff7-d2e8bfed6a9d",
   "metadata": {},
   "outputs": [],
   "source": [
    "def effic_and_purirty_curves(std, frac_dels, cuts, purity_cut=0.05):\n",
    "    effic_list = []\n",
    "    purity_list = []    \n",
    "    for cut_ in cuts:\n",
    "        mask = np.abs(np.squeeze(std)) < cut_\n",
    "        effic = mask.sum() / mask.size\n",
    "        good_mask = np.abs(np.squeeze(frac_dels[mask])) < purity_cut\n",
    "        purtiy = good_mask.sum() / good_mask.size        \n",
    "        effic_list.append(effic)\n",
    "        purity_list.append(purtiy)        \n",
    "    return np.array(effic_list), np.array(purity_list)"
   ]
  },
  {
   "cell_type": "code",
   "execution_count": null,
   "id": "3ce49039-f3ef-44b3-933f-a1727cb684fe",
   "metadata": {},
   "outputs": [],
   "source": [
    "grid = np.linspace(0., 4., 401)"
   ]
  },
  {
   "cell_type": "code",
   "execution_count": null,
   "id": "4831424b-2b96-4f74-baac-110a2319d368",
   "metadata": {},
   "outputs": [],
   "source": [
    "algo = 'knn'\n",
    "d = tables_io.read(\"/Users/echarles/pz/data/test/dp1_matched_test.hdf5\")\n",
    "pz = qp.read(f\"/Users/echarles/pz/projects/dp1/data/gold_dp1_optimize/output_estimate_{algo}.hdf5\")\n",
    "redshifts = d['redshift']"
   ]
  },
  {
   "cell_type": "code",
   "execution_count": null,
   "id": "0db2e8d7-bfd2-4d7b-b700-bb37e7093903",
   "metadata": {},
   "outputs": [],
   "source": [
    "std = calc_std(pz, grid)\n",
    "frac_dels = calc_frac_dels(pz, redshifts)\n",
    "cuts = np.linspace(0.01, 1.00, 100)"
   ]
  },
  {
   "cell_type": "code",
   "execution_count": null,
   "id": "2a293228-4ca3-4fde-a269-f1cdac2bce0c",
   "metadata": {},
   "outputs": [],
   "source": [
    "effic, purity = effic_and_purirty_curves(std, frac_dels, cuts, 0.20)"
   ]
  },
  {
   "cell_type": "code",
   "execution_count": null,
   "id": "1250cf75-3035-4536-b817-ff8e870d8961",
   "metadata": {},
   "outputs": [],
   "source": [
    "fig = plt.figure()\n",
    "_ = plt.plot(cuts, effic)\n",
    "_ = plt.xlabel(r'cut on $\\sigma_{p(z)}$')\n",
    "_ = plt.ylabel('Efficiency')\n",
    "fig.savefig('efficiency.pdf')"
   ]
  },
  {
   "cell_type": "code",
   "execution_count": null,
   "id": "c6265f29-1ed8-46b1-9553-c13a92870b3c",
   "metadata": {},
   "outputs": [],
   "source": [
    "fig = plt.figure()\n",
    "_ = plt.plot(cuts, purity)\n",
    "_ = plt.xlabel(r'cut on $\\sigma_{p(z)}$')\n",
    "_ = plt.ylabel(r'Purity: ($\\frac{\\delta z}{1 + z_{\\rm spec}} < 0.20)$')\n",
    "_ = plt.ylim(0.8, 1.)\n",
    "fig.savefig('purity.pdf')"
   ]
  },
  {
   "cell_type": "code",
   "execution_count": null,
   "id": "ca3dc518-4170-410a-b2a2-3de9ddf59bc2",
   "metadata": {},
   "outputs": [],
   "source": [
    "fig = plt.figure()\n",
    "_ = plt.scatter(purity, effic, c=cuts)\n",
    "mask = np.abs(cuts-0.15) < 0.0001\n",
    "_ = plt.scatter(purity[mask], effic[mask], marker=\"*\", s=50, color=\"red\")\n",
    "\n",
    "_ = plt.xlabel('Purity')\n",
    "_ = plt.ylabel('Efficiency')\n",
    "_ = plt.ylim(0, 1.)\n",
    "_ = plt.xlim(0.875, 1.)\n",
    "_ = plt.colorbar()\n",
    "fig.savefig('purity_v_effic.pdf')"
   ]
  },
  {
   "cell_type": "code",
   "execution_count": null,
   "id": "43a79431-d5a6-45bf-8eeb-d206f7591da5",
   "metadata": {},
   "outputs": [],
   "source": []
  }
 ],
 "metadata": {
  "kernelspec": {
   "display_name": "Python 3 (ipykernel)",
   "language": "python",
   "name": "python3"
  },
  "language_info": {
   "codemirror_mode": {
    "name": "ipython",
    "version": 3
   },
   "file_extension": ".py",
   "mimetype": "text/x-python",
   "name": "python",
   "nbconvert_exporter": "python",
   "pygments_lexer": "ipython3",
   "version": "3.13.3"
  }
 },
 "nbformat": 4,
 "nbformat_minor": 5
}
