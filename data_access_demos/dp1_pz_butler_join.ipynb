{
 "cells": [
  {
   "cell_type": "markdown",
   "id": "1afc1ab1-6083-4898-a713-7cbc4b606dd3",
   "metadata": {},
   "source": [
    "# User's guide to joining DP1 Photo-Z outputs with the DP1 butler data\n",
    "\n",
    "**Author**: Bryce Kalmbach\n",
    "\n",
    "**Last Updated**: 2025/07/11\n",
    "\n",
    "## Purpose\n",
    "\n",
    "Public DP1 redshifts are available for DP1 users (see the [DP1 PZ technote](https://sitcomtn-154.lsst.io) for more information). \n",
    "\n",
    "This notebook provides a brief example of getting the redshifts as served by the LINCC frameworks LSDB ([Caplar et al., 2025](https://ui.adsabs.harvard.edu/abs/2025arXiv250102103C/abstract)) and available via the portal at https://data.lsdb.io/. We then join the redshifts with the available object table in the DP1 butler to calculate magnitudes and colors for all the objects."
   ]
  },
  {
   "cell_type": "code",
   "execution_count": null,
   "id": "412944ce-1704-4537-a892-4837975c53bb",
   "metadata": {},
   "outputs": [],
   "source": [
    "## Variables for Times Square\n",
    "# Specify the names of two algorithms to compare\n",
    "algo_1 = 'knn'\n",
    "algo_2 = 'bpz'\n",
    "# Which type of flux model do you want to use?\n",
    "flux_model = 'gaap1p0'\n",
    "# For which bands do you want to require photometry in the object table? (Specify all in a single string)\n",
    "required_bands = 'griz'"
   ]
  },
  {
   "cell_type": "markdown",
   "id": "8f2b734e-4388-4fdc-98b1-a2ad9cf4f0c6",
   "metadata": {},
   "source": [
    "## Initial Setup"
   ]
  },
  {
   "cell_type": "code",
   "execution_count": null,
   "id": "2d1eaa46-78d8-4fec-a9d9-cfd20d5a7138",
   "metadata": {},
   "outputs": [],
   "source": [
    "# Imports\n",
    "import numpy as np\n",
    "import pandas as pd\n",
    "from lsst.daf.butler import Butler\n",
    "from astropy.table import Table, join\n",
    "from astropy import units as u\n",
    "from matplotlib import pyplot as plt\n",
    "%matplotlib inline"
   ]
  },
  {
   "cell_type": "code",
   "execution_count": null,
   "id": "b7f3364c-9de2-4453-9410-5e9b07b95ad8",
   "metadata": {},
   "outputs": [],
   "source": [
    "# Get a DP1 butler instance\n",
    "butler = Butler('dp1')"
   ]
  },
  {
   "cell_type": "code",
   "execution_count": null,
   "id": "705cce16-ea94-49dd-9643-524e0678e4d2",
   "metadata": {},
   "outputs": [],
   "source": [
    "# Download the PZ data from LSDB portal and put into an astropy table.\n",
    "pz_table = Table.read('https://data.lsdb.io/hats/dp1/object_photoz.parquet')"
   ]
  },
  {
   "cell_type": "markdown",
   "id": "c7c5e99b-3b1e-475f-8b80-634772cb10af",
   "metadata": {},
   "source": [
    "## Available algorithms\n",
    "\n",
    "The available algorithms that appear in the DP1 PZ data set and can be specified at the top of the notebook."
   ]
  },
  {
   "cell_type": "code",
   "execution_count": null,
   "id": "5b19c907-edce-40de-9c45-511966087d7c",
   "metadata": {},
   "outputs": [],
   "source": [
    "print(f'Available PZ algorithms in DP1: {[col_name.split('_')[0] for col_name in pz_table.columns if col_name.endswith('z_mode')]}')"
   ]
  },
  {
   "cell_type": "markdown",
   "id": "c84947c8-e461-40b6-9224-2902c2e9efdc",
   "metadata": {},
   "source": [
    "## Pull data from butler\n",
    "\n",
    "Now we pull a subset of the columns from the object table for one of the tracts covered in DP1. Here we include the `objectId` to join this table with our PZ table. We also pull some extendedness parameters and `psfFlux` measurements to do some basic quality cuts like the ones included in the DP1 PZ technote. We then pull the fluxes and flux errors for the desired `flux_model`."
   ]
  },
  {
   "cell_type": "code",
   "execution_count": null,
   "id": "b4dc895e-a953-4f0f-8c32-93a09323bfc0",
   "metadata": {},
   "outputs": [],
   "source": [
    "obj_columns = ['objectId', 'coord_ra', 'coord_dec', \n",
    "               'g_extendedness', 'r_extendedness',\n",
    "               f'u_{flux_model}Flux', f'g_{flux_model}Flux', \n",
    "               f'r_{flux_model}Flux', f'i_{flux_model}Flux', \n",
    "               f'z_{flux_model}Flux', f'y_{flux_model}Flux',\n",
    "               f'u_{flux_model}FluxErr', f'g_{flux_model}FluxErr', \n",
    "               f'r_{flux_model}FluxErr', f'i_{flux_model}FluxErr', \n",
    "               f'z_{flux_model}FluxErr', f'y_{flux_model}FluxErr']\n",
    "if flux_model != 'psf':\n",
    "    obj_columns.append('i_psfFlux')\n",
    "    obj_columns.append('i_psfFluxErr')"
   ]
  },
  {
   "cell_type": "code",
   "execution_count": null,
   "id": "98a59a8c-7112-4277-9a4d-f6962abbe333",
   "metadata": {},
   "outputs": [],
   "source": [
    "obj_table = butler.get('object', \n",
    "                       instrument='LSSTComCam', \n",
    "                       skymap='lsst_cells_v1', \n",
    "                       tract=5063, \n",
    "                       collections='LSSTComCam/DP1', \n",
    "                       parameters={'columns': obj_columns})"
   ]
  },
  {
   "cell_type": "markdown",
   "id": "83b245b8-2be4-4199-813e-54c7c1b9540d",
   "metadata": {},
   "source": [
    "### Object Table Quality Cuts"
   ]
  },
  {
   "cell_type": "code",
   "execution_count": null,
   "id": "25791629-617c-4893-ada9-e89831c02df1",
   "metadata": {},
   "outputs": [],
   "source": [
    "obj_table = obj_table[(obj_table['g_extendedness'].mask > 0.5) | (obj_table['r_extendedness'].mask > 0.5)]"
   ]
  },
  {
   "cell_type": "code",
   "execution_count": null,
   "id": "6a3e2639-39cd-45fe-97b4-385216f2db08",
   "metadata": {},
   "outputs": [],
   "source": [
    "obj_table = obj_table[(obj_table['i_psfFlux'] / obj_table['i_psfFluxErr']) > 5.]"
   ]
  },
  {
   "cell_type": "markdown",
   "id": "3bd5bb12-08cf-4ca3-9c34-0d4ebe143adb",
   "metadata": {},
   "source": [
    "## Join Tables\n",
    "\n",
    "We join the tables on the `objectId` columns."
   ]
  },
  {
   "cell_type": "code",
   "execution_count": null,
   "id": "a42c5489-f0d1-46ce-951b-f8a6a169287c",
   "metadata": {},
   "outputs": [],
   "source": [
    "combined_table = join(pz_table, obj_table, keys_left='objectId', keys_right='objectId')"
   ]
  },
  {
   "cell_type": "markdown",
   "id": "da0c7415-7646-465b-8412-29b82039d176",
   "metadata": {},
   "source": [
    "## Calculate magnitudes and subselect data with required photometry\n",
    "\n",
    "Using the `required_bands` variable at the top of the notebook we can require that objects have data in the object table for the given set of bands."
   ]
  },
  {
   "cell_type": "code",
   "execution_count": null,
   "id": "94d43942-74c9-47bd-b0e2-2d55a20dc2e7",
   "metadata": {},
   "outputs": [],
   "source": [
    "required_bands_present = [True] * len(combined_table)\n",
    "band_list = ['u', 'g', 'r', 'i', 'z', 'y']\n",
    "required_band_list = [band_label for band_label in required_bands]\n",
    "for band_label in band_list:\n",
    "    combined_table[f'{band_label}_{flux_model}Mag'] = \\\n",
    "        (combined_table[f'{band_label}_{flux_model}Flux']*u.nJy).to(u.ABmag)\n",
    "    if band_label in required_band_list:\n",
    "        required_bands_present *= ~np.isnan(combined_table[f'{band_label}_{flux_model}Mag'])"
   ]
  },
  {
   "cell_type": "code",
   "execution_count": null,
   "id": "b89b25bc-7534-4b09-81cb-5c13cc07242f",
   "metadata": {},
   "outputs": [],
   "source": [
    "combined_table = combined_table[np.where(required_bands_present == True)]\n",
    "print(f'Total number of objects with observations in all required bands ({required_band_list}): {len(combined_table)}')"
   ]
  },
  {
   "cell_type": "markdown",
   "id": "2d42ad6a-64fd-473a-9069-ed8d92b2146c",
   "metadata": {},
   "source": [
    "## Make some plots!\n",
    "\n",
    "Time to play with the data!"
   ]
  },
  {
   "cell_type": "markdown",
   "id": "0159c2b9-fcfa-4d8b-9547-13ff248b01bb",
   "metadata": {},
   "source": [
    "### Color-Redshift Plots\n",
    "\n",
    "Here we make some color-redshift plots for each of the two algorithms specified at the top of the notebook and compare them side-by-side."
   ]
  },
  {
   "cell_type": "code",
   "execution_count": null,
   "id": "a29e44be-a1f0-4577-b339-635cea08bb38",
   "metadata": {},
   "outputs": [],
   "source": [
    "fig = plt.figure(figsize=(12, 20))\n",
    "plot_idx = 1\n",
    "for band_1, band_2 in zip(band_list[:-1], band_list[1:]):\n",
    "    color_on = combined_table[f'{band_1}_{flux_model}Mag'] - combined_table[f'{band_2}_{flux_model}Mag']\n",
    "    \n",
    "    fig.add_subplot(5, 2, plot_idx) \n",
    "    plt.scatter(combined_table[f'{algo_1}_z_mode'], color_on, s=2, alpha=0.1)\n",
    "    plt.title(f'{band_1} - {band_2} color vs. photo-z for {algo_1}')\n",
    "    plt.ylim(-3, 5)\n",
    "    plt.xlabel('Photometric Redshift')\n",
    "    plt.ylabel(f'{band_1} - {band_2} color with {flux_model}')\n",
    "    \n",
    "    plot_idx += 1\n",
    "\n",
    "    fig.add_subplot(5, 2, plot_idx) \n",
    "    plt.scatter(combined_table[f'{algo_2}_z_mode'], color_on, s=2, alpha=0.1)\n",
    "    plt.title(f'{band_1} - {band_2} color vs. photo-z for {algo_2}')\n",
    "    plt.ylim(-3, 5)\n",
    "    plot_idx += 1\n",
    "    plt.xlabel('Photometric Redshift')\n",
    "    plt.ylabel(f'{band_1} - {band_2} color with {flux_model}')\n",
    "plt.tight_layout()"
   ]
  },
  {
   "cell_type": "markdown",
   "id": "7244bfb9-7456-404a-9e67-cf763c27948e",
   "metadata": {},
   "source": [
    "### n(z) plots\n",
    "\n",
    "Here we compare the overall estimated n(z) distributions between two algorithms."
   ]
  },
  {
   "cell_type": "code",
   "execution_count": null,
   "id": "48b2e1b4-d41a-492d-923d-41f3aacc61e5",
   "metadata": {},
   "outputs": [],
   "source": [
    "fig = plt.figure(figsize=(14, 6))\n",
    "\n",
    "bins = np.linspace(0, 3, 11) # 10 bins\n",
    "\n",
    "fig.add_subplot(1,2,1)\n",
    "plt.hist(combined_table[f'{algo_1}_z_mode'], bins=bins)\n",
    "plt.title(f'n(z) for Photo-Z Algorithm: {algo_1}')\n",
    "plt.xlabel('Photo-Z')\n",
    "plt.ylabel('Count')\n",
    "\n",
    "fig.add_subplot(1,2,2)\n",
    "plt.hist(combined_table[f'{algo_2}_z_mode'], bins=bins)\n",
    "plt.title(f'n(z) for Photo-Z Algorithm: {algo_2}')\n",
    "plt.xlabel('Photo-Z')\n",
    "plt.ylabel('Count')"
   ]
  },
  {
   "cell_type": "code",
   "execution_count": null,
   "id": "9b24b23c-11ef-4229-a312-54d90a9ae1df",
   "metadata": {},
   "outputs": [],
   "source": [
    "plt.hist(combined_table[f'{algo_1}_z_mode'], alpha=0.2, label=algo_1, bins=bins)\n",
    "plt.hist(combined_table[f'{algo_2}_z_mode'], alpha=0.2, label=algo_2, bins=bins)\n",
    "plt.legend()\n",
    "plt.xlabel('Photo-Z')\n",
    "plt.ylabel('Count')\n",
    "plt.title('Comparing n(z) for two algorithms')"
   ]
  }
 ],
 "metadata": {
  "kernelspec": {
   "display_name": "LSST",
   "language": "python",
   "name": "lsst"
  },
  "language_info": {
   "codemirror_mode": {
    "name": "ipython",
    "version": 3
   },
   "file_extension": ".py",
   "mimetype": "text/x-python",
   "name": "python",
   "nbconvert_exporter": "python",
   "pygments_lexer": "ipython3",
   "version": "3.12.11"
  }
 },
 "nbformat": 4,
 "nbformat_minor": 5
}
