{
 "cells": [
  {
   "cell_type": "markdown",
   "id": "1afc1ab1-6083-4898-a713-7cbc4b606dd3",
   "metadata": {},
   "source": [
    "# Accessing PZ outputs directly from the DP1 butler"
   ]
  },
  {
   "cell_type": "markdown",
   "id": "8f3be22d-8001-4600-9500-6291939f6426",
   "metadata": {},
   "source": [
    "## Prerequisites\n",
    "\n",
    "Need to clone the following repositories (and branch) and add the eups setup commands to include them in your `notebooks/.user_setups` environment:\n",
    "- [`testdata_rail`](https://github.com/lsst/testdata_rail): `main`\n",
    "- [`meas_pz`](https://github.com/lsst-dm/meas_pz): `u/echarles/all_the_estimators`"
   ]
  },
  {
   "cell_type": "code",
   "execution_count": null,
   "id": "2d1eaa46-78d8-4fec-a9d9-cfd20d5a7138",
   "metadata": {},
   "outputs": [],
   "source": [
    "from lsst.daf.butler import Butler"
   ]
  },
  {
   "cell_type": "code",
   "execution_count": null,
   "id": "b7f3364c-9de2-4453-9410-5e9b07b95ad8",
   "metadata": {},
   "outputs": [],
   "source": [
    "butler = Butler('/repo/dp1')"
   ]
  },
  {
   "cell_type": "code",
   "execution_count": null,
   "id": "d2fc687a-7c0a-429c-868f-34a3b1e46040",
   "metadata": {},
   "outputs": [],
   "source": [
    "pz_collection = 'LSSTComCam/runs/DRP/u/echarles/pz_redshift_outlet/dp1/gold/baseline/v0'"
   ]
  },
  {
   "cell_type": "code",
   "execution_count": null,
   "id": "a58ec7e7-be4c-4bfa-a894-cb3c2e132354",
   "metadata": {},
   "outputs": [],
   "source": [
    "butler.registry.queryCollections('LSSTComCam/runs/DRP/u/echarles/pz_redshift_outlet/dp1/gold/baseline*')"
   ]
  },
  {
   "cell_type": "code",
   "execution_count": null,
   "id": "5e4274ab-a4d6-424c-86bb-4711485b6cf9",
   "metadata": {},
   "outputs": [],
   "source": [
    "ens = butler.get('pz_estimate_knn', instrument='LSSTComCam', skymap='lsst_cells_v1', tract=5063, collections=pz_collection)"
   ]
  },
  {
   "cell_type": "code",
   "execution_count": null,
   "id": "10d4f1f0-8892-4e79-bf18-c224ecd972a2",
   "metadata": {},
   "outputs": [],
   "source": [
    "ens.ancil"
   ]
  }
 ],
 "metadata": {
  "kernelspec": {
   "display_name": "LSST",
   "language": "python",
   "name": "lsst"
  },
  "language_info": {
   "codemirror_mode": {
    "name": "ipython",
    "version": 3
   },
   "file_extension": ".py",
   "mimetype": "text/x-python",
   "name": "python",
   "nbconvert_exporter": "python",
   "pygments_lexer": "ipython3",
   "version": "3.12.11"
  }
 },
 "nbformat": 4,
 "nbformat_minor": 5
}
