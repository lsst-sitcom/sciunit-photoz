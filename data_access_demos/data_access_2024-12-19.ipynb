{
 "cells": [
  {
   "cell_type": "markdown",
   "id": "c6cf08b8-44b9-4170-899f-2d0bf32156e0",
   "metadata": {},
   "source": [
    "# Explore ComCam embargo repo\n",
    "\n",
    "Created by: Melissa Graham\n",
    "\n",
    "For the photo-z science unit to help them get started with embargo repo access."
   ]
  },
  {
   "cell_type": "markdown",
   "id": "3fa04534-5b06-4e68-819a-2e1a5c3b8eb1",
   "metadata": {},
   "source": [
    "## How to discover processing runs\n",
    "\n",
    "Butler repos of ComCam data are being tracked in Confluence.\n",
    "\n",
    "The quick link is: [ls.st/campaigns](ls.st/campaigns).\n",
    "\n",
    "Which goes to this page: <br>\n",
    "https://rubinobs.atlassian.net/wiki/spaces/DM/pages/48834013/Campaigns\n",
    "<br>\n",
    "\n",
    "From that page can see DRP names collections like `LSSTComCam/runs/DRP/<data-date-range>/w_2024_XX/DM-XXXXX`.\n",
    "\n",
    "Pick one, `LSSTComCam/runs/DRP/20241101_20241204/w_2024_49/DM-47988`.\n",
    "\n",
    "Check status: https://rubinobs.atlassian.net/issues/DM-47988.\n",
    "\n",
    "Ticket description has quick links to color HIPS, such as [gri](https://usdf-rsp.slac.stanford.edu/portal/app/?api=hips&uri=https://usdf-rsp.slac.stanford.edu/s3proxy/s3/embargo%40rubin-summit-users/LSSTComCam/hips/DRP/20241101_20241204/w_2024_49/DM-47988/color_gri), for easy browsing.\n",
    "\n",
    "Ticket description also has quick links to the Plot Navigator, which has run characterization plots, such as [objectTableCore_coaddInputCount_SkyPlot](https://usdf-rsp.slac.stanford.edu/plot-navigator/plot/embargo/LSSTComCam%2Fruns%2FDRP%2F20241101_20241204%2Fw_2024_49%2FDM-47988/objectTableCore_coaddInputCount_SkyPlot), which shows object density in tracts.\n",
    "\n",
    "Import packages."
   ]
  },
  {
   "cell_type": "code",
   "execution_count": null,
   "id": "eadddfaa-72a2-4cd9-b0e9-4a2e77c38207",
   "metadata": {},
   "outputs": [],
   "source": [
    "import lsst.afw.display as afwDisplay\n",
    "import lsst.daf.butler as dafButler\n",
    "import matplotlib.pyplot as plt\n",
    "import numpy as np"
   ]
  },
  {
   "cell_type": "markdown",
   "id": "51dfc17f-7850-4a34-a8e8-e10eaa553e9c",
   "metadata": {},
   "source": [
    "Firefly."
   ]
  },
  {
   "cell_type": "code",
   "execution_count": null,
   "id": "10969b0e-e01c-4e11-84a0-f0a6246511b5",
   "metadata": {},
   "outputs": [],
   "source": [
    "afwDisplay.setDefaultBackend('firefly')\n",
    "afw_display = afwDisplay.Display(frame=1)"
   ]
  },
  {
   "cell_type": "markdown",
   "id": "72a4b603-4193-4153-9680-5de9c3384ee7",
   "metadata": {},
   "source": [
    "Instantiate a butler to take a look at this run."
   ]
  },
  {
   "cell_type": "code",
   "execution_count": null,
   "id": "00c0ae85-e47d-449f-9b5e-775cdf53eca3",
   "metadata": {},
   "outputs": [],
   "source": [
    "collection = \"LSSTComCam/runs/DRP/20241101_20241204/w_2024_49/DM-47988\"\n",
    "b_embargo = dafButler.Butler(\"/repo/embargo\", collections=collection)\n",
    "registry = b_embargo.registry"
   ]
  },
  {
   "cell_type": "markdown",
   "id": "e35daea6-4015-46d0-9a7b-820d2b59358c",
   "metadata": {},
   "source": [
    "Explore the registry."
   ]
  },
  {
   "cell_type": "code",
   "execution_count": null,
   "id": "b4000a75-9df6-4473-8332-469cbd4b10a9",
   "metadata": {},
   "outputs": [],
   "source": [
    "# searchterm = 'objectTable_tract'\n",
    "# searchterm = 'deepCoadd_*'\n",
    "# searchterm = 'skyMap'\n",
    "# searchterm = '*isitTable'\n",
    "# for dt in sorted(registry.queryDatasetTypes(searchterm)):\n",
    "#     print(dt)"
   ]
  },
  {
   "cell_type": "markdown",
   "id": "f94e93bf-5cf3-4e55-a358-ee5c8a0a31e7",
   "metadata": {},
   "source": [
    "I got tract 5063 from looking at the Plot Navigator."
   ]
  },
  {
   "cell_type": "code",
   "execution_count": null,
   "id": "85f2523f-3c34-427b-ad2f-564adeac6f55",
   "metadata": {},
   "outputs": [],
   "source": [
    "dataId = {'band': 'i', 'tract': 5063, 'skymap': 'lsst_cells_v1'}"
   ]
  },
  {
   "cell_type": "code",
   "execution_count": null,
   "id": "5a70dab4-8f62-46dd-81f3-769f68e1aba0",
   "metadata": {},
   "outputs": [],
   "source": [
    "objects = b_embargo.get('objectTable_tract', dataId = dataId)"
   ]
  },
  {
   "cell_type": "code",
   "execution_count": null,
   "id": "c97c6f5e-06f5-4ec1-823b-25fd76166032",
   "metadata": {},
   "outputs": [],
   "source": [
    "# objects?"
   ]
  },
  {
   "cell_type": "code",
   "execution_count": null,
   "id": "de40745c-111e-4a3f-8003-9c465c533bc1",
   "metadata": {},
   "outputs": [],
   "source": [
    "# objects"
   ]
  },
  {
   "cell_type": "markdown",
   "id": "dc75d8b6-7373-43b6-ae0e-d3298933b16d",
   "metadata": {},
   "source": [
    "Flux columns (but not flags or errors)."
   ]
  },
  {
   "cell_type": "code",
   "execution_count": null,
   "id": "fdf6851e-cb81-4d62-9b5a-238f19c334ec",
   "metadata": {},
   "outputs": [],
   "source": [
    "# for col in objects.columns:\n",
    "#     if (col.find('lux') >= 0) \\\n",
    "#     & (col.find('lag') < 0) \\\n",
    "#     & (col.find('Err') < 0):\n",
    "#         print(col)"
   ]
  },
  {
   "cell_type": "markdown",
   "id": "a8e12634-1572-4d6e-8c7d-a7de83bf6cc2",
   "metadata": {},
   "source": [
    "Other columns; in this case, \"patch\"."
   ]
  },
  {
   "cell_type": "code",
   "execution_count": null,
   "id": "eaa32f36-dec6-465b-9211-032a04584ec9",
   "metadata": {},
   "outputs": [],
   "source": [
    "# for col in objects.columns:\n",
    "#     if (col.find('atch') >= 0):\n",
    "#         print(col)"
   ]
  },
  {
   "cell_type": "markdown",
   "id": "47e53226-a527-4dff-a976-e55e3b276288",
   "metadata": {},
   "source": [
    "Plot something simple, ra and dec, for this tract."
   ]
  },
  {
   "cell_type": "code",
   "execution_count": null,
   "id": "4ca1ad1a-e242-487f-ac29-72f393cb8e83",
   "metadata": {},
   "outputs": [],
   "source": [
    "plt.plot(objects.coord_ra, objects.coord_dec, 'o', alpha=0.2, mew=0)\n",
    "plt.plot(53.13, -28.10, 's', color='black')\n",
    "plt.show()"
   ]
  },
  {
   "cell_type": "markdown",
   "id": "41833a9a-ed2d-4787-8f85-4759135d64d9",
   "metadata": {},
   "source": [
    "What patches are covered by this tract?"
   ]
  },
  {
   "cell_type": "code",
   "execution_count": null,
   "id": "c8b5eb67-4f1e-4512-961b-d1de9a026e6d",
   "metadata": {},
   "outputs": [],
   "source": [
    "print(np.unique(objects.patch))"
   ]
  },
  {
   "cell_type": "markdown",
   "id": "10fd6818-877a-4ba3-acdc-ef922ee911ab",
   "metadata": {},
   "source": [
    "Pick a patch and get and display the deepCoadd for it."
   ]
  },
  {
   "cell_type": "code",
   "execution_count": null,
   "id": "002ac855-78b8-4c4a-b25e-ab82cef77a6a",
   "metadata": {},
   "outputs": [],
   "source": [
    "dataId = {'band': 'i', 'tract': 5063, 'patch': 11,\n",
    "          'skymap': 'lsst_cells_v1'}"
   ]
  },
  {
   "cell_type": "code",
   "execution_count": null,
   "id": "07c121ca-df76-4a63-ac62-4a71d6019b11",
   "metadata": {},
   "outputs": [],
   "source": [
    "deepCoadd = b_embargo.get('deepCoadd_calexp', dataId = dataId)"
   ]
  },
  {
   "cell_type": "code",
   "execution_count": null,
   "id": "49713057-083e-4c22-8892-3193e0ce5c1c",
   "metadata": {},
   "outputs": [],
   "source": [
    "afw_display.mtv(deepCoadd)"
   ]
  },
  {
   "cell_type": "code",
   "execution_count": null,
   "id": "8714d3ee-f1aa-4601-8003-2de8588c100c",
   "metadata": {},
   "outputs": [],
   "source": [
    "afw_display.setMaskTransparency(100)"
   ]
  },
  {
   "cell_type": "code",
   "execution_count": null,
   "id": "dcb9b95e-6dc4-453f-81d3-d63fb9c680a4",
   "metadata": {},
   "outputs": [],
   "source": []
  }
 ],
 "metadata": {
  "kernelspec": {
   "display_name": "LSST",
   "language": "python",
   "name": "lsst"
  },
  "language_info": {
   "codemirror_mode": {
    "name": "ipython",
    "version": 3
   },
   "file_extension": ".py",
   "mimetype": "text/x-python",
   "name": "python",
   "nbconvert_exporter": "python",
   "pygments_lexer": "ipython3",
   "version": "3.11.9"
  }
 },
 "nbformat": 4,
 "nbformat_minor": 5
}
