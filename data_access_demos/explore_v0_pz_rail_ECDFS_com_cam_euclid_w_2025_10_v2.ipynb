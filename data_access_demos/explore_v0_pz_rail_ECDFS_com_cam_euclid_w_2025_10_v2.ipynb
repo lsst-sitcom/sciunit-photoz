{
 "cells": [
  {
   "cell_type": "markdown",
   "id": "0",
   "metadata": {},
   "source": [
    "# Explore PhotoZ from ECDFS_comcam_euclid\n",
    "\n",
    "- Author: Sylvie Dagoret-Campagne\n",
    "- Creation date : 2025-04-15\n",
    "- Last update : 2025-04-23\n",
    "\n",
    "For the photo-z science unit "
   ]
  },
  {
   "cell_type": "code",
   "execution_count": null,
   "id": "1",
   "metadata": {},
   "outputs": [],
   "source": [
    "import matplotlib.pyplot as plt\n",
    "import seaborn as sns"
   ]
  },
  {
   "cell_type": "code",
   "execution_count": null,
   "id": "2",
   "metadata": {},
   "outputs": [],
   "source": [
    "import lsst.afw.display as afwDisplay\n",
    "import matplotlib.pyplot as plt\n",
    "import numpy as np\n",
    "\n",
    "import lsst\n",
    "import lsst.geom as geom\n",
    "from lsst.geom import Angle\n",
    "from lsst.geom import SpherePoint\n",
    "from lsst.geom import AngleUnit,degrees\n"
   ]
  },
  {
   "cell_type": "markdown",
   "id": "3",
   "metadata": {},
   "source": [
    "## My tools"
   ]
  },
  {
   "cell_type": "code",
   "execution_count": null,
   "id": "4",
   "metadata": {},
   "outputs": [],
   "source": [
    "def get_list_of_objmethods(my_object):\n",
    "    \"\"\"\n",
    "    Rreturn the methods of an object\n",
    "    \"\"\"\n",
    "    \n",
    "    all_attributs_methods = dir(my_object)\n",
    "    sel_attributs_methods = [meth for meth in all_attributs_methods if \"_\" not in meth]\n",
    "    return sel_attributs_methods\n"
   ]
  },
  {
   "cell_type": "code",
   "execution_count": null,
   "id": "5",
   "metadata": {},
   "outputs": [],
   "source": [
    "def getdocstring_from_objmethod(my_object,methodName):\n",
    "    \"\"\"\n",
    "    Return the docstring aof a method in an object\n",
    "    \"\"\"\n",
    "    docstring = getattr(my_object, methodName).__doc__\n",
    "    return docstring"
   ]
  },
  {
   "cell_type": "code",
   "execution_count": null,
   "id": "6",
   "metadata": {},
   "outputs": [],
   "source": []
  },
  {
   "cell_type": "markdown",
   "id": "7",
   "metadata": {},
   "source": [
    "## Firefly."
   ]
  },
  {
   "cell_type": "code",
   "execution_count": null,
   "id": "8",
   "metadata": {},
   "outputs": [],
   "source": [
    "#afwDisplay.setDefaultBackend('firefly')\n",
    "#afw_display = afwDisplay.Display(frame=1)"
   ]
  },
  {
   "cell_type": "markdown",
   "id": "9",
   "metadata": {},
   "source": [
    "## Registry and data in the user collection\n",
    "\n",
    "- Today 2025-04-15 from Eric Charles:\n",
    "\n",
    "Ok.  I'm re-running the com_cam stuff.    \n",
    "The new version will land in `/repo/main:u/echarles/pz_rail_ECDFS/com_cam_euclid/w_2025_10/v2` in about 20' or so.    \n",
    "The input models are in /repo/main:u/echarles/pz_models/com_cam_euclid/v2 .\n",
    "it would be great if:\n",
    "People had a look at these:\n",
    "At least 1-2 other people learned how to do this."
   ]
  },
  {
   "cell_type": "markdown",
   "id": "10",
   "metadata": {},
   "source": [
    "## Required installation of DM with Rail\n",
    "\n",
    "    source /sdf/data/rubin/shared/pz/software/lsst-stack/loadLSST.sh\n",
    "    setup lsst_distrib\n",
    "    setup -r /sdf/data/rubin/shared/pz/software/packages/meas_pz -t ${USER}\n",
    "\n",
    "\n",
    "Then install \n",
    "\n",
    "     pip install pz-rail-base\n",
    "     pip install pz-rail-XX (for each of the algorithms I wanted to use)\n"
   ]
  },
  {
   "cell_type": "markdown",
   "id": "11",
   "metadata": {},
   "source": [
    "## Logging on jupyterlab \n",
    "\n",
    "     - choose w_2025_10\n",
    "     - put \n",
    "            setup -r /sdf/data/rubin/shared/pz/software/packages/meas_pz -t ${USER} \n",
    "            in notebooks/.user_setup"
   ]
  },
  {
   "cell_type": "markdown",
   "id": "12",
   "metadata": {},
   "source": [
    "## Chech the environnement"
   ]
  },
  {
   "cell_type": "code",
   "execution_count": null,
   "id": "13",
   "metadata": {},
   "outputs": [],
   "source": [
    "! eups list -s "
   ]
  },
  {
   "cell_type": "markdown",
   "id": "14",
   "metadata": {},
   "source": [
    "## PZ and E-Charles collection"
   ]
  },
  {
   "cell_type": "code",
   "execution_count": null,
   "id": "15",
   "metadata": {},
   "outputs": [],
   "source": [
    "the_collection = 'u/echarles/pz_rail_ECDFS/com_cam_euclid/w_2025_10/v2'\n",
    "instrument = \"LSSTComCam\"\n",
    "skymapName = \"lsst_cells_v1\"\n",
    "where_clause = \"instrument = \\'\" + instrument+ \"\\'\"\n",
    "TRACTSEL = 5063\n",
    "\n",
    "ECDFS_RA = 53.1\n",
    "ECDFS_DEC = -27.8\n",
    "ECDFS_COORD = SpherePoint(ECDFS_RA, ECDFS_DEC , degrees)"
   ]
  },
  {
   "cell_type": "code",
   "execution_count": null,
   "id": "16",
   "metadata": {},
   "outputs": [],
   "source": [
    "from lsst.daf.butler import Butler\n",
    "butler = Butler.from_config('/repo/main', collections=[the_collection])\n",
    "registry = butler.registry"
   ]
  },
  {
   "cell_type": "code",
   "execution_count": null,
   "id": "17",
   "metadata": {},
   "outputs": [],
   "source": [
    "skymap = butler.get('skyMap', skymap=skymapName, collections=the_collection)"
   ]
  },
  {
   "cell_type": "code",
   "execution_count": null,
   "id": "18",
   "metadata": {},
   "outputs": [],
   "source": [
    "# 4. Trouver dans quel tract/patch se trouve la coordonnée\n",
    "ECDFS_tract_info = skymap.findTract(ECDFS_COORD)"
   ]
  },
  {
   "cell_type": "markdown",
   "id": "19",
   "metadata": {},
   "source": [
    "### Check the datasettypes"
   ]
  },
  {
   "cell_type": "code",
   "execution_count": null,
   "id": "20",
   "metadata": {},
   "outputs": [],
   "source": [
    "if 0:\n",
    "    for datasetType in registry.queryDatasetTypes():\n",
    "        if registry.queryDatasets(datasetType, collections=the_collection):\n",
    "            # Limit search results to the data products\n",
    "            if (\"pz\" in datasetType.name) :\n",
    "                print(datasetType)"
   ]
  },
  {
   "cell_type": "markdown",
   "id": "21",
   "metadata": {},
   "source": [
    "## Retrieve the list of patches in the ECDFS"
   ]
  },
  {
   "cell_type": "code",
   "execution_count": null,
   "id": "22",
   "metadata": {},
   "outputs": [],
   "source": [
    "#datasettype = \"objectTable_tract\"\n",
    "#therefs = butler.registry.queryDatasets(datasettype,  collections = the_collection)"
   ]
  },
  {
   "cell_type": "markdown",
   "id": "23",
   "metadata": {},
   "source": [
    "## Retrieve results of PhotoZ algo"
   ]
  },
  {
   "cell_type": "markdown",
   "id": "24",
   "metadata": {},
   "source": [
    "- We know that we have 58 patches in tract 5063 (ECDFS):\n",
    "\n",
    "      butler query-datasets /repo/main --collections u/echarles/pz_rail_ECDFS/com_cam_euclid/w_2025_10/v2 \"pz_estimate*\"\n",
    "       \n",
    "- need to skip patchs 9,19,29,39,40,49,50,51,52 and all after 57\n",
    "  "
   ]
  },
  {
   "cell_type": "code",
   "execution_count": null,
   "id": "25",
   "metadata": {},
   "outputs": [],
   "source": [
    "qp_ens = {}\n",
    "NPATCHMAX = 58\n",
    "patch_to_skip = np.array([9,19,29,39,40,49,50,51,52]) \n",
    "for ipatch in range(NPATCHMAX):\n",
    "    if ipatch not in patch_to_skip:\n",
    "        try:\n",
    "            qp_ens_knn = butler.get('pz_estimate_knn', instrument=\"LSSTComCam\", skymap=\"lsst_cells_v1\", tract=TRACTSEL, patch=ipatch)\n",
    "            qp_ens_bpz = butler.get('pz_estimate_bpz', instrument=\"LSSTComCam\", skymap=\"lsst_cells_v1\", tract=TRACTSEL, patch=ipatch)\n",
    "            qp_ens_dnf = butler.get('pz_estimate_dnf', instrument=\"LSSTComCam\", skymap=\"lsst_cells_v1\", tract=TRACTSEL, patch=ipatch)\n",
    "            qp_ens_fzboost = butler.get('pz_estimate_fzboost', instrument=\"LSSTComCam\", skymap=\"lsst_cells_v1\", tract=TRACTSEL, patch=ipatch)\n",
    "            qp_ens_gpz = butler.get('pz_estimate_gpz', instrument=\"LSSTComCam\", skymap=\"lsst_cells_v1\", tract=TRACTSEL, patch=ipatch)\n",
    "            #qp_ens_tpz = butler.get('pz_estimate_tpz', instrument=\"LSSTComCam\", skymap=\"lsst_cells_v1\", tract=TRACTSEL, patch=0)\n",
    "            #qp_ens_lephare = butler.get('pz_estimate_lephare', instrument=\"LSSTComCam\", skymap=\"lsst_cells_v1\", tract=TRACTSEL, patch=0)\n",
    "            qp_ens[ipatch] = {\n",
    "                \"qp_ens_knn\": qp_ens_knn,\n",
    "                \"qp_ens_bpz\": qp_ens_bpz,\n",
    "                \"qp_ens_dnf\" : qp_ens_dnf,\n",
    "                \"qp_ens_fzboost\" : qp_ens_fzboost,\n",
    "                \"qp_ens_gpz\" : qp_ens_gpz\n",
    "            }\n",
    "        except Exception as inst:\n",
    "            print(type(inst))    # the exception type\n",
    "            print(inst.args)     # arguments stored in .args\n",
    "            print(inst)          # __str__ allows args to be printed directly,\n",
    "    "
   ]
  },
  {
   "cell_type": "code",
   "execution_count": null,
   "id": "26",
   "metadata": {},
   "outputs": [],
   "source": [
    "NPATCHS = len(qp_ens)"
   ]
  },
  {
   "cell_type": "code",
   "execution_count": null,
   "id": "27",
   "metadata": {},
   "outputs": [],
   "source": [
    "palette_patchs = sns.color_palette(\"husl\", NPATCHMAX)\n",
    "from matplotlib.colors import ListedColormap\n",
    "cmap_patchs = ListedColormap(palette_patchs)\n",
    "#plt.scatter(x, y, c=labels, cmap=cmap)"
   ]
  },
  {
   "cell_type": "code",
   "execution_count": null,
   "id": "28",
   "metadata": {},
   "outputs": [],
   "source": [
    "palette_patchs "
   ]
  },
  {
   "cell_type": "code",
   "execution_count": null,
   "id": "29",
   "metadata": {},
   "outputs": [],
   "source": [
    "sns.palplot(palette_patchs)"
   ]
  },
  {
   "cell_type": "code",
   "execution_count": null,
   "id": "30",
   "metadata": {},
   "outputs": [],
   "source": [
    "palette_patchs[25]"
   ]
  },
  {
   "cell_type": "markdown",
   "id": "31",
   "metadata": {},
   "source": [
    "### Check what can be called from qp"
   ]
  },
  {
   "cell_type": "markdown",
   "id": "32",
   "metadata": {},
   "source": [
    "https://qp.readthedocs.io/en/main/"
   ]
  },
  {
   "cell_type": "code",
   "execution_count": null,
   "id": "33",
   "metadata": {},
   "outputs": [],
   "source": [
    "my_object = qp_ens_knn\n",
    "sel_attributs_methods =  get_list_of_objmethods(my_object)\n",
    "print(sel_attributs_methods)"
   ]
  },
  {
   "cell_type": "code",
   "execution_count": null,
   "id": "34",
   "metadata": {},
   "outputs": [],
   "source": [
    "#for methodName in sel_attributs_methods:\n",
    "#    docstring =  getdocstring_from_objmethod(my_object,methodName)\n",
    "#    print(f\"Method: {methodName}\\nDocstring: {docstring}\\n\")"
   ]
  },
  {
   "cell_type": "code",
   "execution_count": null,
   "id": "35",
   "metadata": {},
   "outputs": [],
   "source": [
    "list_of_algos = list(qp_ens[0].keys())\n",
    "Nalgos = len(list_of_algos)\n",
    "list_of_algos"
   ]
  },
  {
   "cell_type": "code",
   "execution_count": null,
   "id": "36",
   "metadata": {},
   "outputs": [],
   "source": [
    "list_of_patches = list(qp_ens.keys())"
   ]
  },
  {
   "cell_type": "code",
   "execution_count": null,
   "id": "37",
   "metadata": {},
   "outputs": [],
   "source": [
    "grid = np.linspace(0, 3, 101)\n",
    "the_algo_name = list_of_algos[0]\n",
    "the_patch_num = 10\n",
    "the_qp_algo = qp_ens[the_patch_num][the_algo_name]\n",
    "title = f\"pdf patch = {the_patch_num}, algo = {the_algo_name}\"\n",
    "#print(the_qp_algo.mode(grid).flatten())\n",
    "\n",
    "N=10\n",
    "fig,axs = plt.subplots(N,1,figsize=(8,8),layout=\"constrained\")\n",
    "for idx in range(N):\n",
    "    ax =axs[idx]\n",
    "    if idx == 0:\n",
    "        ax.set_title(title)\n",
    "    data = the_qp_algo[idx].pdf(grid)\n",
    "    label = f\"obj = {idx}\"\n",
    "    ax.plot(grid,data[0,:],label=label)\n",
    "    ax.legend()\n",
    "\n",
    "ax.set_xlabel(\"z-grid\")\n",
    "  "
   ]
  },
  {
   "cell_type": "code",
   "execution_count": null,
   "id": "38",
   "metadata": {},
   "outputs": [],
   "source": [
    "assert False"
   ]
  },
  {
   "cell_type": "code",
   "execution_count": null,
   "id": "39",
   "metadata": {},
   "outputs": [],
   "source": [
    "assert False"
   ]
  },
  {
   "cell_type": "code",
   "execution_count": null,
   "id": "40",
   "metadata": {},
   "outputs": [],
   "source": [
    "# loop on patches\n",
    "grid = np.linspace(0, 3, 51)\n",
    "for ipatch in list_of_patches:\n",
    "    if ipatch < NPATCHMAX :\n",
    "        the_qp = qp_ens[ipatch]\n",
    "        print(ipatch,the_qp.keys())\n",
    "        for idx,the_algo in enumerate(the_qp.keys()): \n",
    "            the_qp_algo = the_qp[the_algo]\n",
    "            nobj = the_qp_algo.npdf\n",
    "            the_modes = the_qp_algo.mode(grid).flatten()\n",
    "            print(ipatch,the_algo,nobj,the_modes)"
   ]
  },
  {
   "cell_type": "code",
   "execution_count": null,
   "id": "41",
   "metadata": {},
   "outputs": [],
   "source": [
    "assert False"
   ]
  },
  {
   "cell_type": "code",
   "execution_count": null,
   "id": "42",
   "metadata": {},
   "outputs": [],
   "source": [
    "fig,axs = plt.subplots(5,1,figsize=(12,10))\n",
    "\n",
    "# loop on algo\n",
    "for ialgo in range(Nalgos):\n",
    "    ax = axs[ialgo]\n",
    "    the_algo = list_of_algos[ialgo]\n",
    "\n",
    "    # loop on patches\n",
    "    for ipatch in list_of_patches:\n",
    "        if ipatch < 2:\n",
    "            the_qp = qp_ens[ipatch][the_algo]\n",
    "            nobj = the_qp.npdf\n",
    "            if nobj>0:\n",
    "                the_modes = the_qp.mode(grid).flatten()\n",
    "                ax.hist(the_modes,bins=50,range=(0.,3.),histtype=\"step\",color=palette_patchs[ipatch])\n",
    "        #print(the_algo,ipatch,nobj,the_modes)"
   ]
  },
  {
   "cell_type": "code",
   "execution_count": null,
   "id": "43",
   "metadata": {},
   "outputs": [],
   "source": [
    "assert False"
   ]
  },
  {
   "cell_type": "code",
   "execution_count": null,
   "id": "44",
   "metadata": {},
   "outputs": [],
   "source": [
    "fig,axs = plt.subplots(5,1,figsize=(12,10))\n",
    "\n",
    "# loop on algo\n",
    "for ialgo in range(Nalgos):\n",
    "    ax = axs[ialgo]\n",
    "    the_algo = list_of_algos[ialgo]\n",
    "\n",
    "    # loop on patches\n",
    "    for ipatch in list_of_patches:\n",
    "        if ipatch < 10:\n",
    "            the_qp = qp_ens[ipatch][the_algo]\n",
    "            nobj = the_qp.npdf\n",
    "            if nobj>0:\n",
    "                the_modes = the_qp.mode(grid).flatten()\n",
    "                ax.hist(the_modes,bins=50,range=(0.,3.),histtype=\"step\",color=palette_patchs[ipatch])\n",
    "        #print(the_algo,ipatch,nobj,the_modes)\n",
    "    \n",
    "    "
   ]
  },
  {
   "cell_type": "code",
   "execution_count": null,
   "id": "45",
   "metadata": {},
   "outputs": [],
   "source": []
  },
  {
   "cell_type": "code",
   "execution_count": null,
   "id": "46",
   "metadata": {},
   "outputs": [],
   "source": [
    "objdata = qp_ens_knn.objdata()\n",
    "objdata"
   ]
  },
  {
   "cell_type": "code",
   "execution_count": null,
   "id": "47",
   "metadata": {},
   "outputs": [],
   "source": [
    "qp_ens_knn.npdf"
   ]
  },
  {
   "cell_type": "code",
   "execution_count": null,
   "id": "48",
   "metadata": {},
   "outputs": [],
   "source": [
    "qp_ens_bpz.npdf"
   ]
  },
  {
   "cell_type": "code",
   "execution_count": null,
   "id": "49",
   "metadata": {},
   "outputs": [],
   "source": [
    "qp_ens_dnf.npdf"
   ]
  },
  {
   "cell_type": "code",
   "execution_count": null,
   "id": "50",
   "metadata": {},
   "outputs": [],
   "source": [
    "\n",
    "plt.hist(my_object.mode(grid).flatten(),bins=50);"
   ]
  },
  {
   "cell_type": "code",
   "execution_count": null,
   "id": "51",
   "metadata": {},
   "outputs": [],
   "source": []
  }
 ],
 "metadata": {
  "kernelspec": {
   "display_name": "LSST",
   "language": "python",
   "name": "lsst"
  },
  "language_info": {
   "codemirror_mode": {
    "name": "ipython",
    "version": 3
   },
   "file_extension": ".py",
   "mimetype": "text/x-python",
   "name": "python",
   "nbconvert_exporter": "python",
   "pygments_lexer": "ipython3",
   "version": "3.12.9"
  }
 },
 "nbformat": 4,
 "nbformat_minor": 5
}
