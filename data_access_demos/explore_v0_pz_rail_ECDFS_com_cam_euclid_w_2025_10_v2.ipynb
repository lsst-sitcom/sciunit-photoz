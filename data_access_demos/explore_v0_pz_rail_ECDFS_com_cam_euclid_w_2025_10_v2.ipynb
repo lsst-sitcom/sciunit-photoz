{
 "cells": [
  {
   "cell_type": "markdown",
   "id": "0",
   "metadata": {},
   "source": [
    "# Explore PhotoZ from ECDFS_comcam_euclid\n",
    "\n",
    "- Author: Sylvie Dagoret-Campagne\n",
    "- Creation date : 2025-04-15\n",
    "- Last update : 2025-04-15\n",
    "\n",
    "For the photo-z science unit "
   ]
  },
  {
   "cell_type": "code",
   "execution_count": null,
   "id": "1",
   "metadata": {},
   "outputs": [],
   "source": [
    "import lsst.afw.display as afwDisplay\n",
    "import lsst.daf.butler as dafButler\n",
    "import matplotlib.pyplot as plt\n",
    "import numpy as np"
   ]
  },
  {
   "cell_type": "markdown",
   "id": "2",
   "metadata": {},
   "source": [
    "## Firefly."
   ]
  },
  {
   "cell_type": "code",
   "execution_count": null,
   "id": "3",
   "metadata": {},
   "outputs": [],
   "source": [
    "#afwDisplay.setDefaultBackend('firefly')\n",
    "#afw_display = afwDisplay.Display(frame=1)"
   ]
  },
  {
   "cell_type": "markdown",
   "id": "4",
   "metadata": {},
   "source": [
    "## Registry and data in the user collection\n",
    "\n",
    "- Today 2025-04-15 from Eric Charles:\n",
    "\n",
    "Ok.  I'm re-running the com_cam stuff.    \n",
    "The new version will land in `/repo/main:u/echarles/pz_rail_ECDFS/com_cam_euclid/w_2025_10/v2` in about 20' or so.    \n",
    "The input models are in /repo/main:u/echarles/pz_models/com_cam_euclid/v2 .\n",
    "it would be great if:\n",
    "People had a look at these:\n",
    "At least 1-2 other people learned how to do this."
   ]
  },
  {
   "cell_type": "code",
   "execution_count": null,
   "id": "5",
   "metadata": {},
   "outputs": [],
   "source": [
    "#collection = \"LSSTComCam/runs/DRP/20241101_20241204/w_2024_49/DM-47988\"\n",
    "collection_data = \"u/echarles/pz_rail_ECDFS/com_cam_euclid/w_2025_10/v2\"\n",
    "collection_model = \"u/echarles/pz_models/com_cam_euclid/v2\" \n",
    "b_main_data = dafButler.Butler(\"/repo/main\", collections=collection_data)\n",
    "b_main_model = dafButler.Butler(\"/repo/main\", collections=collection_model)\n",
    "registry_data = b_main_data.registry\n",
    "registry_model = b_main_model.registry\n",
    "where_clause  = \"instrument=\\'LSSTComCam\\'\""
   ]
  },
  {
   "cell_type": "markdown",
   "id": "6",
   "metadata": {},
   "source": [
    "## These data where produced with the pipeline\n",
    "\n",
    "    pipetask run -j 16 --register-dataset-types -b /repo/main -i LSSTComCam/runs/DRP/DP1/   w_2025_10/DM-49359,u/echarles/pz_models/com_cam_euclid -o u/echarles/pz_rail_ECDFS/com_cam_euclid/w_2025_10 -p pz_pipeline_all_lsst.yaml#all_pz -d \"instrument='LSSTComCam' AND skymap='lsst_cells_v1' AND tract=5063\""
   ]
  },
  {
   "cell_type": "markdown",
   "id": "7",
   "metadata": {},
   "source": [
    "## What are the different datatypes available"
   ]
  },
  {
   "cell_type": "code",
   "execution_count": null,
   "id": "8",
   "metadata": {},
   "outputs": [],
   "source": [
    "for datasetType in registry_data.queryDatasetTypes():\n",
    "    if (\"pz\" in datasetType.name) or (\"PZ\" in datasetType.name):\n",
    "        print(datasetType)"
   ]
  },
  {
   "cell_type": "code",
   "execution_count": null,
   "id": "9",
   "metadata": {},
   "outputs": [],
   "source": [
    "for datasetType in registry_model.queryDatasetTypes():\n",
    "    if (\"pz\" in datasetType.name) or (\"PZ\" in datasetType.name):\n",
    "        print(datasetType)"
   ]
  },
  {
   "cell_type": "markdown",
   "id": "10",
   "metadata": {},
   "source": []
  },
  {
   "cell_type": "code",
   "execution_count": null,
   "id": "11",
   "metadata": {},
   "outputs": [],
   "source": [
    "list(b_main_model.registry.queryDatasets('pzModel_trainz'))"
   ]
  },
  {
   "cell_type": "code",
   "execution_count": null,
   "id": "12",
   "metadata": {},
   "outputs": [],
   "source": [
    "model = b_main_data.get(data_product,collections=collection_model,instrument=\"LSSTComCam\")"
   ]
  },
  {
   "cell_type": "code",
   "execution_count": null,
   "id": "13",
   "metadata": {},
   "outputs": [],
   "source": [
    "list(b_main_data.registry.queryDatasets('pzModel_trainz'))"
   ]
  },
  {
   "cell_type": "code",
   "execution_count": null,
   "id": "14",
   "metadata": {},
   "outputs": [],
   "source": [
    "if 1:\n",
    "\n",
    "    all_data = []\n",
    "    data_product = 'pzModel_trainz'\n",
    "\n",
    "    #datasetRefs = butler.registry.queryDatasets(datasetType=data_product, collections=collections, where= \"instrument='LSSTComCamSim'\")\n",
    "    datasetRefs = b_main_data.registry.queryDatasets(datasetType=data_product, collections=collection_data, where = where_clause)\n",
    "    for i, ref in enumerate(datasetRefs):\n",
    "        if (i % 100 == 0):\n",
    "            print(f\"============ datasetType = {data_product} ================================\")\n",
    "            print(\"fullId..................:\",ref.dataId)\n",
    "        try:\n",
    "            data = b_main_data.get(data_product, dataId=ref.dataId )  \n",
    "            all_data.append(data)\n",
    "       \n",
    "        except Exception as inst:\n",
    "            print(type(inst))    # the exception type\n",
    "            print(inst.args)     # arguments stored in .args\n",
    "            print(inst)         \n",
    "\n",
    "    N = len(all_data)\n",
    "    print(f\"N = {N}\")"
   ]
  },
  {
   "cell_type": "code",
   "execution_count": null,
   "id": "15",
   "metadata": {},
   "outputs": [],
   "source": [
    "data_product"
   ]
  },
  {
   "cell_type": "code",
   "execution_count": null,
   "id": "16",
   "metadata": {},
   "outputs": [],
   "source": [
    "data = b_main_data.get(data_product,collections=collection_data,instrument=\"LSSTComCam\")\n",
    "#data = b_main_data.get(datasetRefs[0])"
   ]
  },
  {
   "cell_type": "code",
   "execution_count": null,
   "id": "17",
   "metadata": {},
   "outputs": [],
   "source": []
  }
 ],
 "metadata": {
  "kernelspec": {
   "display_name": "LSST",
   "language": "python",
   "name": "lsst"
  },
  "language_info": {
   "codemirror_mode": {
    "name": "ipython",
    "version": 3
   },
   "file_extension": ".py",
   "mimetype": "text/x-python",
   "name": "python",
   "nbconvert_exporter": "python",
   "pygments_lexer": "ipython3",
   "version": "3.12.9"
  }
 },
 "nbformat": 4,
 "nbformat_minor": 5
}
