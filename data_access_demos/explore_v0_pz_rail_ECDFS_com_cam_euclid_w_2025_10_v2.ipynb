{
 "cells": [
  {
   "cell_type": "markdown",
   "id": "0",
   "metadata": {},
   "source": [
    "# Explore PhotoZ from ECDFS_comcam_euclid\n",
    "\n",
    "- Author: Sylvie Dagoret-Campagne\n",
    "- Creation date : 2025-04-15\n",
    "- Last update : 2025-04-22\n",
    "\n",
    "For the photo-z science unit "
   ]
  },
  {
   "cell_type": "code",
   "execution_count": null,
   "id": "1",
   "metadata": {},
   "outputs": [],
   "source": [
    "import lsst.afw.display as afwDisplay\n",
    "import matplotlib.pyplot as plt\n",
    "import numpy as np"
   ]
  },
  {
   "cell_type": "markdown",
   "id": "2",
   "metadata": {},
   "source": [
    "## My tools"
   ]
  },
  {
   "cell_type": "code",
   "execution_count": null,
   "id": "3",
   "metadata": {},
   "outputs": [],
   "source": [
    "def get_list_of_objmethods(my_object):\n",
    "    \"\"\"\n",
    "    Rreturn the methods of an object\n",
    "    \"\"\"\n",
    "    \n",
    "    all_attributs_methods = dir(my_object)\n",
    "    sel_attributs_methods = [meth for meth in all_attributs_methods if \"_\" not in meth]\n",
    "    return sel_attributs_methods\n"
   ]
  },
  {
   "cell_type": "code",
   "execution_count": null,
   "id": "4",
   "metadata": {},
   "outputs": [],
   "source": [
    "def getdocstring_from_objmethod(my_object,methodName):\n",
    "    \"\"\"\n",
    "    Return the docstring aof a method in an object\n",
    "    \"\"\"\n",
    "    docstring = getattr(my_object, methodName).__doc__\n",
    "    return docstring"
   ]
  },
  {
   "cell_type": "code",
   "execution_count": null,
   "id": "5",
   "metadata": {},
   "outputs": [],
   "source": []
  },
  {
   "cell_type": "markdown",
   "id": "6",
   "metadata": {},
   "source": [
    "## Firefly."
   ]
  },
  {
   "cell_type": "code",
   "execution_count": null,
   "id": "7",
   "metadata": {},
   "outputs": [],
   "source": [
    "#afwDisplay.setDefaultBackend('firefly')\n",
    "#afw_display = afwDisplay.Display(frame=1)"
   ]
  },
  {
   "cell_type": "markdown",
   "id": "8",
   "metadata": {},
   "source": [
    "## Registry and data in the user collection\n",
    "\n",
    "- Today 2025-04-15 from Eric Charles:\n",
    "\n",
    "Ok.  I'm re-running the com_cam stuff.    \n",
    "The new version will land in `/repo/main:u/echarles/pz_rail_ECDFS/com_cam_euclid/w_2025_10/v2` in about 20' or so.    \n",
    "The input models are in /repo/main:u/echarles/pz_models/com_cam_euclid/v2 .\n",
    "it would be great if:\n",
    "People had a look at these:\n",
    "At least 1-2 other people learned how to do this."
   ]
  },
  {
   "cell_type": "markdown",
   "id": "9",
   "metadata": {},
   "source": [
    "## Required installation of DM with Rail\n",
    "\n",
    "    source /sdf/data/rubin/shared/pz/software/lsst-stack/loadLSST.sh\n",
    "    setup lsst_distrib\n",
    "    setup -r /sdf/data/rubin/shared/pz/software/packages/meas_pz -t ${USER}\n",
    "\n",
    "\n",
    "Then install \n",
    "\n",
    "     pip install pz-rail-base\n",
    "     pip install pz-rail-XX (for each of the algorithms I wanted to use)\n"
   ]
  },
  {
   "cell_type": "markdown",
   "id": "10",
   "metadata": {},
   "source": [
    "## Logging on jupyterlab \n",
    "\n",
    "     - choose w_2025_10\n",
    "     - put \n",
    "            setup -r /sdf/data/rubin/shared/pz/software/packages/meas_pz -t ${USER} \n",
    "            in notebooks/.user_setup"
   ]
  },
  {
   "cell_type": "markdown",
   "id": "11",
   "metadata": {},
   "source": [
    "## Chech the environnement"
   ]
  },
  {
   "cell_type": "code",
   "execution_count": null,
   "id": "12",
   "metadata": {},
   "outputs": [],
   "source": [
    "! eups list -s "
   ]
  },
  {
   "cell_type": "markdown",
   "id": "13",
   "metadata": {},
   "source": [
    "## PZ and E-Charles collection"
   ]
  },
  {
   "cell_type": "code",
   "execution_count": null,
   "id": "14",
   "metadata": {},
   "outputs": [],
   "source": [
    "the_collection = 'u/echarles/pz_rail_ECDFS/com_cam_euclid/w_2025_10/v2'\n",
    "instrument = \"LSSTComCam\"\n",
    "skymapName = \"lsst_cells_v1\"\n",
    "where_clause = \"instrument = \\'\" + instrument+ \"\\'\"\n",
    "TRACTSEL = 5063"
   ]
  },
  {
   "cell_type": "code",
   "execution_count": null,
   "id": "15",
   "metadata": {},
   "outputs": [],
   "source": [
    "from lsst.daf.butler import Butler\n",
    "butler = Butler.from_config('/repo/main', collections=[the_collection])\n",
    "registry = butler.registry"
   ]
  },
  {
   "cell_type": "code",
   "execution_count": null,
   "id": "16",
   "metadata": {},
   "outputs": [],
   "source": [
    "skymap = butler.get('skyMap', skymap=skymapName, collections=the_collection)"
   ]
  },
  {
   "cell_type": "markdown",
   "id": "17",
   "metadata": {},
   "source": [
    "### Check the datasettypes"
   ]
  },
  {
   "cell_type": "code",
   "execution_count": null,
   "id": "18",
   "metadata": {},
   "outputs": [],
   "source": [
    "if 1:\n",
    "    for datasetType in registry.queryDatasetTypes():\n",
    "        if registry.queryDatasets(datasetType, collections=the_collection):\n",
    "            # Limit search results to the data products\n",
    "            if (\"pz\" in datasetType.name) :\n",
    "                print(datasetType)"
   ]
  },
  {
   "cell_type": "markdown",
   "id": "19",
   "metadata": {},
   "source": [
    "## Retrieve the list of patches in the ECDFS"
   ]
  },
  {
   "cell_type": "code",
   "execution_count": null,
   "id": "20",
   "metadata": {},
   "outputs": [],
   "source": [
    "#datasettype = \"objectTable_tract\"\n",
    "#therefs = butler.registry.queryDatasets(datasettype,  collections = the_collection)"
   ]
  },
  {
   "cell_type": "markdown",
   "id": "21",
   "metadata": {},
   "source": [
    "## Retrieve result of PhotoZ algo"
   ]
  },
  {
   "cell_type": "code",
   "execution_count": null,
   "id": "22",
   "metadata": {},
   "outputs": [],
   "source": [
    "qp_ens_knn = butler.get('pz_estimate_knn', instrument=\"LSSTComCam\", skymap=\"lsst_cells_v1\", tract=TRACTSEL, patch=0)\n",
    "qp_ens_bpz = butler.get('pz_estimate_bpz', instrument=\"LSSTComCam\", skymap=\"lsst_cells_v1\", tract=TRACTSEL, patch=0)\n",
    "qp_ens_dnf = butler.get('pz_estimate_dnf', instrument=\"LSSTComCam\", skymap=\"lsst_cells_v1\", tract=TRACTSEL, patch=0)\n",
    "qp_ens_fzboost = butler.get('pz_estimate_fzboost', instrument=\"LSSTComCam\", skymap=\"lsst_cells_v1\", tract=TRACTSEL, patch=0)\n",
    "qp_ens_gpz = butler.get('pz_estimate_gpz', instrument=\"LSSTComCam\", skymap=\"lsst_cells_v1\", tract=TRACTSEL, patch=0)\n",
    "#qp_ens_tpz = butler.get('pz_estimate_tpz', instrument=\"LSSTComCam\", skymap=\"lsst_cells_v1\", tract=TRACTSEL, patch=0)\n",
    "#qp_ens_lephare = butler.get('pz_estimate_lephare', instrument=\"LSSTComCam\", skymap=\"lsst_cells_v1\", tract=TRACTSEL, patch=0)"
   ]
  },
  {
   "cell_type": "markdown",
   "id": "23",
   "metadata": {},
   "source": [
    "### Check what can be called from qp"
   ]
  },
  {
   "cell_type": "code",
   "execution_count": null,
   "id": "24",
   "metadata": {},
   "outputs": [],
   "source": [
    "my_object = qp_ens_knn\n",
    "sel_attributs_methods =  get_list_of_objmethods(my_object)\n",
    "print(sel_attributs_methods)"
   ]
  },
  {
   "cell_type": "code",
   "execution_count": null,
   "id": "25",
   "metadata": {},
   "outputs": [],
   "source": [
    "#for methodName in sel_attributs_methods:\n",
    "#    docstring =  getdocstring_from_objmethod(my_object,methodName)\n",
    "#    print(f\"Method: {methodName}\\nDocstring: {docstring}\\n\")"
   ]
  },
  {
   "cell_type": "code",
   "execution_count": null,
   "id": "26",
   "metadata": {},
   "outputs": [],
   "source": [
    "objdata = qp_ens_knn.objdata()\n",
    "objdata"
   ]
  },
  {
   "cell_type": "code",
   "execution_count": null,
   "id": "27",
   "metadata": {},
   "outputs": [],
   "source": [
    "qp_ens_knn.npdf"
   ]
  },
  {
   "cell_type": "code",
   "execution_count": null,
   "id": "28",
   "metadata": {},
   "outputs": [],
   "source": [
    "qp_ens_bpz.npdf"
   ]
  },
  {
   "cell_type": "code",
   "execution_count": null,
   "id": "29",
   "metadata": {},
   "outputs": [],
   "source": [
    "qp_ens_dnf.npdf"
   ]
  },
  {
   "cell_type": "code",
   "execution_count": null,
   "id": "30",
   "metadata": {},
   "outputs": [],
   "source": []
  }
 ],
 "metadata": {
  "kernelspec": {
   "display_name": "LSST",
   "language": "python",
   "name": "lsst"
  },
  "language_info": {
   "codemirror_mode": {
    "name": "ipython",
    "version": 3
   },
   "file_extension": ".py",
   "mimetype": "text/x-python",
   "name": "python",
   "nbconvert_exporter": "python",
   "pygments_lexer": "ipython3",
   "version": "3.12.9"
  }
 },
 "nbformat": 4,
 "nbformat_minor": 5
}
