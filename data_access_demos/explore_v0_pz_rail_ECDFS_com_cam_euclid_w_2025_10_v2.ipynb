{
 "cells": [
  {
   "cell_type": "markdown",
   "id": "0",
   "metadata": {},
   "source": [
    "# Explore PhotoZ from ECDFS_comcam_euclid\n",
    "\n",
    "- Author: Sylvie Dagoret-Campagne\n",
    "- Creation date : 2025-04-15\n",
    "- Last update : 2025-04-15\n",
    "\n",
    "For the photo-z science unit "
   ]
  },
  {
   "cell_type": "code",
   "execution_count": null,
   "id": "1",
   "metadata": {},
   "outputs": [],
   "source": [
    "import lsst.afw.display as afwDisplay\n",
    "import lsst.daf.butler as dafButler\n",
    "import matplotlib.pyplot as plt\n",
    "import numpy as np"
   ]
  },
  {
   "cell_type": "markdown",
   "id": "2",
   "metadata": {},
   "source": [
    "## Firefly."
   ]
  },
  {
   "cell_type": "code",
   "execution_count": null,
   "id": "3",
   "metadata": {},
   "outputs": [],
   "source": [
    "#afwDisplay.setDefaultBackend('firefly')\n",
    "#afw_display = afwDisplay.Display(frame=1)"
   ]
  },
  {
   "cell_type": "markdown",
   "id": "4",
   "metadata": {},
   "source": [
    "## Registry and data in the user collection\n",
    "\n",
    "- Today 2025-04-15 from Eric Charles:\n",
    "\n",
    "Ok.  I'm re-running the com_cam stuff.    \n",
    "The new version will land in `/repo/main:u/echarles/pz_rail_ECDFS/com_cam_euclid/w_2025_10/v2` in about 20' or so.    \n",
    "The input models are in /repo/main:u/echarles/pz_models/com_cam_euclid/v2 .\n",
    "it would be great if:\n",
    "People had a look at these:\n",
    "At least 1-2 other people learned how to do this."
   ]
  },
  {
   "cell_type": "code",
   "execution_count": null,
   "id": "5",
   "metadata": {},
   "outputs": [],
   "source": [
    "#collection = \"LSSTComCam/runs/DRP/20241101_20241204/w_2024_49/DM-47988\"\n",
    "collection_data = \"u/echarles/pz_rail_ECDFS/com_cam_euclid/w_2025_10/v2\"\n",
    "collection_model = \"u/echarles/pz_models/com_cam_euclid/v2\" \n",
    "b_main_data = dafButler.Butler(\"/repo/main\", collections=collection_data)\n",
    "b_main_model = dafButler.Butler(\"/repo/main\", collections=collection_model)\n",
    "registry_data = b_main_data.registry\n",
    "registry_model = b_main_model.registry"
   ]
  },
  {
   "cell_type": "markdown",
   "id": "6",
   "metadata": {},
   "source": []
  },
  {
   "cell_type": "code",
   "execution_count": null,
   "id": "7",
   "metadata": {},
   "outputs": [],
   "source": [
    "for datasetType in registry_data.queryDatasetTypes():\n",
    "    if (\"pz\" in datasetType.name) or (\"PZ\" in datasetType.name):\n",
    "        print(datasetType)"
   ]
  },
  {
   "cell_type": "code",
   "execution_count": null,
   "id": "8",
   "metadata": {},
   "outputs": [],
   "source": [
    "for datasetType in registry_model.queryDatasetTypes():\n",
    "    if (\"pz\" in datasetType.name) or (\"PZ\" in datasetType.name):\n",
    "        print(datasetType)"
   ]
  },
  {
   "cell_type": "markdown",
   "id": "9",
   "metadata": {},
   "source": []
  },
  {
   "cell_type": "code",
   "execution_count": null,
   "id": "10",
   "metadata": {},
   "outputs": [],
   "source": []
  }
 ],
 "metadata": {
  "kernelspec": {
   "display_name": "LSST",
   "language": "python",
   "name": "lsst"
  },
  "language_info": {
   "codemirror_mode": {
    "name": "ipython",
    "version": 3
   },
   "file_extension": ".py",
   "mimetype": "text/x-python",
   "name": "python",
   "nbconvert_exporter": "python",
   "pygments_lexer": "ipython3",
   "version": "3.12.9"
  }
 },
 "nbformat": 4,
 "nbformat_minor": 5
}
