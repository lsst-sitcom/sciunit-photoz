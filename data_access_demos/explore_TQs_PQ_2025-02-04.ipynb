{
 "cells": [
  {
   "cell_type": "markdown",
   "id": "5b5e5e62-5875-492a-bb42-ddac60b9c593",
   "metadata": {},
   "source": [
    "# Explore TQ's PQ tables with CMNN\n",
    "\n",
    "TQ has made parquet tables by matching Objects with spec-z.\n",
    "\n",
    "Just for fun let's try CMNN on them.\n",
    "\n",
    "```\n",
    "ls -lah /sdf/group/rubin/shared/pz/users/ztq1996/comcam/data/\n",
    "\n",
    "-rwxr-xr-x 1 45146 rubin_users 1.3M Feb  3 18:32 galaxy_objects_curated_cds_matched_secured.pq\n",
    "-rwxr-xr-x 1 45146 rubin_users 1.4M Feb  4 21:01 galaxy_objects_curated_cds_matched_secured_deredden.pq\n",
    "-rwxr-xr-x 1 45146 rubin_users 419K Feb  4 21:00 secured_matched_deredden_test.pq\n",
    "-rwxr-xr-x 1 45146 rubin_users 913K Feb  4 21:00 secured_matched_deredden_train.pq\n",
    "-rwxr-xr-x 1 45146 rubin_users 419K Feb  3 18:32 secured_matched_test.pq\n",
    "-rwxr-xr-x 1 45146 rubin_users 913K Feb  3 18:32 secured_matched_train.pq\n",
    "```\n",
    "\n",
    "## Import packages and read data"
   ]
  },
  {
   "cell_type": "code",
   "execution_count": null,
   "id": "d499fb81-140f-42e9-af59-60dd87de239b",
   "metadata": {},
   "outputs": [],
   "source": [
    "import numpy as np\n",
    "from scipy.stats import chi2\n",
    "import matplotlib.pyplot as plt\n",
    "import pandas as pd"
   ]
  },
  {
   "cell_type": "markdown",
   "id": "b87d71dd-11a0-4800-b3e5-6d5146babef6",
   "metadata": {},
   "source": [
    "Read parquet files with pandas."
   ]
  },
  {
   "cell_type": "code",
   "execution_count": null,
   "id": "bc6f33ca-bc9a-45de-b8c7-dd70f090308a",
   "metadata": {},
   "outputs": [],
   "source": [
    "path = '/sdf/group/rubin/shared/pz/users/ztq1996/comcam/data/'\n",
    "\n",
    "### all, 5073\n",
    "# fnm = 'galaxy_objects_curated_cds_matched_secured.pq'\n",
    "# fnm = 'galaxy_objects_curated_cds_matched_secured_deredden.pq'\n",
    "\n",
    "### test, 1573\n",
    "# fnm = 'secured_matched_test.pq'\n",
    "fnm = 'secured_matched_deredden_test.pq'\n",
    "test = pd.read_parquet(path+fnm)\n",
    "\n",
    "### train, 3500\n",
    "# fnm = 'secured_matched_train.pq'\n",
    "fnm = 'secured_matched_deredden_train.pq'\n",
    "train = pd.read_parquet(path+fnm)"
   ]
  },
  {
   "cell_type": "code",
   "execution_count": null,
   "id": "131986da-227b-410c-ae49-367956a14acb",
   "metadata": {},
   "outputs": [],
   "source": [
    "# test\n",
    "# train\n",
    "# test.columns\n",
    "# train.columns"
   ]
  },
  {
   "cell_type": "markdown",
   "id": "a180286d-f417-4d21-9dd3-ed2c0c80634a",
   "metadata": {},
   "source": [
    "Concatenate test and train, because we can use leave-one-out with CMNN."
   ]
  },
  {
   "cell_type": "code",
   "execution_count": null,
   "id": "72aa0380-5850-4027-afe4-69400cf572f6",
   "metadata": {},
   "outputs": [],
   "source": [
    "df = pd.concat([test, train], axis=0)\n",
    "del test, train"
   ]
  },
  {
   "cell_type": "code",
   "execution_count": null,
   "id": "14773547-8970-4b99-8bae-5f54d732639a",
   "metadata": {},
   "outputs": [],
   "source": [
    "# df\n",
    "# df.columns"
   ]
  },
  {
   "cell_type": "markdown",
   "id": "70650895-919b-4335-ba8a-5eca77a8a737",
   "metadata": {},
   "source": [
    "## Add color columns to dataframe"
   ]
  },
  {
   "cell_type": "code",
   "execution_count": null,
   "id": "ba149dc3-afc1-4d88-9751-1209de371f7a",
   "metadata": {},
   "outputs": [],
   "source": [
    "df['ug'] = df['u_cModelMag'] - df['g_cModelMag']\n",
    "df['gr'] = df['g_cModelMag'] - df['r_cModelMag']\n",
    "df['ri'] = df['r_cModelMag'] - df['i_cModelMag']\n",
    "df['iz'] = df['i_cModelMag'] - df['z_cModelMag']\n",
    "df['zy'] = df['z_cModelMag'] - df['y_cModelMag']\n",
    "df['uge'] = np.sqrt(df['u_cModelMagErr']**2 + df['g_cModelMagErr']**2)\n",
    "df['gre'] = np.sqrt(df['g_cModelMagErr']**2 + df['r_cModelMagErr']**2)\n",
    "df['rie'] = np.sqrt(df['r_cModelMagErr']**2 + df['i_cModelMagErr']**2)\n",
    "df['ize'] = np.sqrt(df['i_cModelMagErr']**2 + df['z_cModelMagErr']**2)\n",
    "df['zye'] = np.sqrt(df['z_cModelMagErr']**2 + df['y_cModelMagErr']**2)"
   ]
  },
  {
   "cell_type": "markdown",
   "id": "1ac98d1b-c6d6-4902-8f37-611b87018720",
   "metadata": {},
   "source": [
    "## Set up to run CMNN PZ estimator"
   ]
  },
  {
   "cell_type": "code",
   "execution_count": null,
   "id": "8c2ec5cb-e4a9-4e36-a46f-966bd71111bd",
   "metadata": {},
   "outputs": [],
   "source": [
    "cmnn_sel_mode = 2 # weighted random selection\n",
    "cmnn_min_Nc = 3 # minimum number of colors\n",
    "cmnn_min_Nn = 5 # minimum number of CMNN training set galaxies\n",
    "cmnn_ppf_value = 0.68 # percent point function value\n",
    "\n",
    "cmnn_thresh_table = np.zeros(9, dtype='float')\n",
    "for i in range(9):\n",
    "    cmnn_thresh_table[i] = chi2.ppf(cmnn_ppf_value, i)\n",
    "cmnn_thresh_table[0] = float(0.0000)\n",
    "print('cmnn_thresh_table:')\n",
    "for i in range(9):\n",
    "    print('i, threshold = ', i, cmnn_thresh_table[i])"
   ]
  },
  {
   "cell_type": "code",
   "execution_count": null,
   "id": "577b7d45-4ac9-4110-8a4b-2934843a171b",
   "metadata": {},
   "outputs": [],
   "source": [
    "def return_photoz(test_c, test_ce, train_c, train_z, \\\n",
    "                  ppf_value, thresh_table, sel_mode, \\\n",
    "                  min_Nc, min_Nn):\n",
    "    \n",
    "    '''\n",
    "    For a single test galaxy, return photometric redshift and uncertainty based\n",
    "    on the supplied training-set galaxies and CMNN Estimator mode parameters.\n",
    "\n",
    "    Inputs\n",
    "    test_c        array of colors for test galaxy\n",
    "    test_ce       array of color errors for test galaxy\n",
    "    train_c       array of colors for all training-set galaxies\n",
    "    train_z       array of color errors for all training-set galaxies\n",
    "    ppf_value     percent point function value (typically 0.68 or 0.95)\n",
    "    thresh_table  table of thresholds to apply based on the ppf_value\n",
    "    sel_mode      how the photo-z will be selected from the CMNN subset of training galaxies\n",
    "                     '--> 0 : random, 1 : nearest neighbor, 2 : weighted random\n",
    "    min_Nc        minimum number of colors used to identify the CMNN subset of training galaxies\n",
    "    min_Nn        the minimum size of the CMNN subset of training galaxies\n",
    "\n",
    "    Outputs\n",
    "    out_pz   the photometric redshift for the test galaxy\n",
    "    out_pze  the uncertainty in the photo-z for the test galaxy\n",
    "    Ncm      the number of training-set galaxies in the color-matched subset\n",
    "    '''\n",
    "\n",
    "    # Calculate the Mahalanobis Distance for each training set galaxy\n",
    "    MahalanobisDistance = np.nansum((test_c - train_c)**2 / test_ce**2, axis=1, dtype='float')\n",
    "\n",
    "    # Calculate the Degrees of Freedom for each training set galaxy\n",
    "    # choice of numerator/denominator is arbitrary, but keep denom != 0\n",
    "    DegreesOfFreedom = np.nansum((test_c**2 + train_c**2 + 1.0) / (test_c**2 + train_c**2 + 1.0), \\\n",
    "                                 axis=1, dtype='int' )\n",
    "\n",
    "    # Determine the appropriate threshold that should apply to each training set galaxy\n",
    "    # We use a look-up table; the slow way is: thresholds = chi2.ppf( ppf_value, DegreesOfFreedom )\n",
    "    thresholds = np.zeros(len(train_c), dtype='float')\n",
    "    for i in range(len(train_c)):\n",
    "        thresholds[i] = thresh_table[DegreesOfFreedom[i]]\n",
    "\n",
    "    # Identify the indicies of the CMNN subset of training-set galaxies\n",
    "    index = np.where((DegreesOfFreedom >= min_Nc) & \\\n",
    "                     (thresholds > 0.00010) & \\\n",
    "                     (MahalanobisDistance > 0.00010) & \\\n",
    "                     (MahalanobisDistance <= thresholds))[0]\n",
    "\n",
    "    # Determine the photometric redshift for this test galaxy\n",
    "    #  if there are a sufficient number of training-set galaxies in the CMNN subset\n",
    "    if len(index) >= min_Nn:\n",
    "\n",
    "        # choose randomly from the color matched sample\n",
    "        if sel_mode == 0:\n",
    "            rival = np.random.choice(index, size=1, replace=False)[0]\n",
    "            out_pz = train_z[rival]\n",
    "            out_pze = np.std(train_z[index])\n",
    "            del rival\n",
    "\n",
    "        # choose the nearest neighbor, the best color match\n",
    "        if sel_mode == 1:\n",
    "            tx = np.where(MahalanobisDistance[index] == np.nanmin(MahalanobisDistance[index]))[0]\n",
    "            if len(tx) == 1:\n",
    "                rval = tx[0]\n",
    "            if len(tx) > 1:\n",
    "                # if there's more than one best match (rare but possible), choose randomly\n",
    "                rval = np.random.choice(tx, size=1, replace=False)[0]\n",
    "            out_pz = train_z[index[rval]]\n",
    "            out_pze = np.std(train_z[index])\n",
    "            del tx,rval\n",
    "\n",
    "        # weight by how good the color match is and then choose randomly\n",
    "        if sel_mode == 2:\n",
    "            tweights = float(1.00) / MahalanobisDistance[index]\n",
    "            weights = tweights / np.sum(tweights)\n",
    "            rival = np.random.choice(index, size=1, replace=False, p=weights)[0]\n",
    "            out_pz = train_z[rival]\n",
    "            out_pze = np.std(train_z[index])\n",
    "            del tweights,weights,rival\n",
    "        Ncm = len(index)\n",
    "\n",
    "    # if there are too few training-set galaxies in the CMNN subset\n",
    "    if len(index) < min_Nn:\n",
    "\n",
    "        # find out how many there are we could potentially use\n",
    "        index2 = np.where( \\\n",
    "            (DegreesOfFreedom >= min_Nc) & \\\n",
    "            (thresholds > 0.00010) & \\\n",
    "            (MahalanobisDistance > 0.00010))[0]\n",
    "\n",
    "        # if there's more than the minimum number, use them\n",
    "        if len(index2) >= min_Nn:\n",
    "            tempMD = MahalanobisDistance[index2]\n",
    "            tempTZ = train_z[index2]\n",
    "            tempDF = DegreesOfFreedom[index2]\n",
    "\n",
    "            # identify the nearest neighbors and use them as the CMNN subset\n",
    "            # create a sorted list of min_Nn\n",
    "            sx = np.argsort(tempMD)\n",
    "            new_MD = np.asarray(tempMD[sx[0:min_Nn]], dtype='float')\n",
    "            new_TZ = np.asarray(tempTZ[sx[0:min_Nn]], dtype='float')\n",
    "            new_DF = np.asarray(tempDF[sx[0:min_Nn]], dtype='int')\n",
    "            del tempMD,tempTZ,tempDF,sx\n",
    "\n",
    "            ### calculate the new 'effective PPF' based on the most distant nearest neighbor\n",
    "            new_ppf_value = chi2.cdf(new_MD[-1], new_DF[-1])\n",
    "\n",
    "            ### inflate the photo-z error appropriately\n",
    "            temp = np.std( new_TZ )\n",
    "            out_pze = temp * (new_ppf_value / ppf_value)\n",
    "            del temp,new_ppf_value\n",
    "\n",
    "            ### choose randomly from nearest dselect galaxies\n",
    "            if sel_mode == 0:\n",
    "                rval = np.random.choice(min_Nn, size=1, replace=False)[0]\n",
    "                out_pz = new_TZ[rval]\n",
    "                del rval\n",
    "\n",
    "            ### choose nearest neighbour, use nearest dselect for error\n",
    "            if sel_mode == 1:\n",
    "                out_pz = new_TZ[0]\n",
    "\n",
    "            ### weight by how good the color match is and then select\n",
    "            if sel_mode == 2:\n",
    "                tweights = float(1.00) / new_MD\n",
    "                weights = tweights / np.sum(tweights)\n",
    "                cx = np.random.choice(min_Nn, size=1, replace=False, p=weights)[0]\n",
    "                out_pz = new_TZ[cx]\n",
    "                del tweights,weights,cx\n",
    "            del new_MD,new_TZ,new_DF\n",
    "            ### set the number in the CMNN subset to be min_Nn\n",
    "            Ncm = min_Nn\n",
    "\n",
    "        ### if there's not enough training-set galaxies this is probably a bad test galaxy anway\n",
    "        else:\n",
    "            out_pz = -99.99\n",
    "            out_pze = -99.99\n",
    "            Ncm = 0\n",
    "\n",
    "        del index2\n",
    "\n",
    "    del index, MahalanobisDistance, DegreesOfFreedom, thresholds\n",
    "\n",
    "    return [out_pz, out_pze, Ncm]"
   ]
  },
  {
   "cell_type": "markdown",
   "id": "4d718fc2-de6b-48b1-b58e-35f11b1ed009",
   "metadata": {},
   "source": [
    "## Create numpy arrays expected by `return_photoz`\n",
    "\n",
    "Create numpy arrays of colors, color errors, and redshifts."
   ]
  },
  {
   "cell_type": "code",
   "execution_count": null,
   "id": "0da5a513-8349-439c-8ccc-b60f4a6690df",
   "metadata": {},
   "outputs": [],
   "source": [
    "train_oid = np.asarray(df.index, dtype='long')\n",
    "train_z   = np.asarray(df['redshift'], dtype='float')\n",
    "train_c = np.transpose(np.asarray([df['ug'], df['gr'], df['ri'], df['iz'], df['zy']], dtype='float'))\n",
    "train_ce = np.transpose(np.asarray([df['uge'], df['gre'], df['rie'], df['ize'], df['zye']], dtype='float'))"
   ]
  },
  {
   "cell_type": "code",
   "execution_count": null,
   "id": "80bbbbfe-7298-4021-a54e-ae44d15167c0",
   "metadata": {},
   "outputs": [],
   "source": [
    "del df"
   ]
  },
  {
   "cell_type": "markdown",
   "id": "abdfbeae-2e69-4136-b36c-c010c7bab333",
   "metadata": {},
   "source": [
    "## Get PZ estimates\n",
    "\n",
    "Don't do any 'cleaning' up of the catalog, like applying limits on detection SNR, magnitude uncertainties, etc.\n",
    "\n",
    "Don't apply a magnitude or color psuedo-priors to the training set."
   ]
  },
  {
   "cell_type": "code",
   "execution_count": null,
   "id": "39d5edb7-19ec-4318-ae7a-2a12c9d6039d",
   "metadata": {},
   "outputs": [],
   "source": [
    "train_pz = np.zeros(len(train_oid), dtype='float') -99.99\n",
    "train_pze = np.zeros(len(train_oid), dtype='float') -99.99\n",
    "train_Ncm = np.zeros(len(train_oid), dtype='int') -99\n",
    "\n",
    "for i in range(len(train_z)):\n",
    "    test_c = train_c[i]\n",
    "    test_ce = train_ce[i]\n",
    "    tx = np.where(train_oid != train_oid[i])[0]\n",
    "\n",
    "    result = return_photoz(test_c, test_ce, train_c[tx], train_z[tx], \\\n",
    "                           cmnn_ppf_value, cmnn_thresh_table, cmnn_sel_mode, \\\n",
    "                           cmnn_min_Nc, cmnn_min_Nn)\n",
    "    \n",
    "    train_pz[i] = result[0]\n",
    "    train_pze[i] = result[1]\n",
    "    train_Ncm[i] = result[2]\n",
    "\n",
    "    del test_c, test_ce, tx, result"
   ]
  },
  {
   "cell_type": "code",
   "execution_count": null,
   "id": "b04f9001-5e79-4be9-8094-58e044088c00",
   "metadata": {},
   "outputs": [],
   "source": [
    "tx = np.where(train_pz < 0.0)[0]\n",
    "print('Number failed: ', len(tx), ' out of ', len(train_pz))"
   ]
  },
  {
   "cell_type": "markdown",
   "id": "3ff50ab9-1cd6-410e-8b50-b25897d7d30b",
   "metadata": {},
   "source": [
    "## Make plots\n",
    "\n",
    "Colors as a function of redshift."
   ]
  },
  {
   "cell_type": "code",
   "execution_count": null,
   "id": "a1216ecb-b431-464a-bbf5-1ea136dbbab4",
   "metadata": {},
   "outputs": [],
   "source": [
    "fig, axs = plt.subplots(3, 2)\n",
    "axs[0, 0].plot(train_z, train_c[:, 0], 'o', ms=2, mew=0, color='darkviolet')\n",
    "axs[0, 0].set_ylabel('u-g')\n",
    "axs[0, 1].plot(train_z, train_c[:, 1], 'o', ms=2, mew=0, color='darkgreen')\n",
    "axs[0, 1].set_ylabel('g-r')\n",
    "axs[1, 0].plot(train_z, train_c[:, 2], 'o', ms=2, mew=0, color='red')\n",
    "axs[1, 0].set_ylabel('r-i')\n",
    "axs[1, 1].plot(train_z, train_c[:, 3], 'o', ms=2, mew=0, color='darkorange')\n",
    "axs[1, 1].set_ylabel('i-z')\n",
    "axs[2, 0].plot(train_z, train_c[:, 4], 'o', ms=2, mew=0, color='brown')\n",
    "axs[2, 0].set_ylabel('z-y')\n",
    "axs[2, 0].set_xlabel('redshift')\n",
    "fig.tight_layout()\n",
    "fig.show()"
   ]
  },
  {
   "cell_type": "markdown",
   "id": "457e3df3-2189-4a2a-a71e-d681c90219e4",
   "metadata": {},
   "source": [
    "Color errors vs. colors."
   ]
  },
  {
   "cell_type": "code",
   "execution_count": null,
   "id": "2c4bcf27-3c4b-4b90-9dea-1817dda32cde",
   "metadata": {},
   "outputs": [],
   "source": [
    "fig, axs = plt.subplots(3, 2)\n",
    "axs[0, 0].plot(train_c[:, 0], train_ce[:, 0], 'o', ms=2, mew=0, color='darkviolet')\n",
    "axs[0, 0].set_ylabel('u-g error')\n",
    "axs[0, 1].plot(train_c[:, 1], train_ce[:, 1], 'o', ms=2, mew=0, color='darkgreen')\n",
    "axs[0, 1].set_ylabel('g-r error')\n",
    "axs[1, 0].plot(train_c[:, 2], train_ce[:, 2], 'o', ms=2, mew=0, color='red')\n",
    "axs[1, 0].set_ylabel('r-i error')\n",
    "axs[1, 1].plot(train_c[:, 3], train_ce[:, 3], 'o', ms=2, mew=0, color='darkorange')\n",
    "axs[1, 1].set_ylabel('i-z error')\n",
    "axs[2, 0].plot(train_c[:, 4], train_ce[:, 4], 'o', ms=2, mew=0, color='brown')\n",
    "axs[2, 0].set_ylabel('z-y error')\n",
    "axs[2, 0].set_xlabel('color')\n",
    "fig.tight_layout()\n",
    "fig.show()"
   ]
  },
  {
   "cell_type": "markdown",
   "id": "b37b5c5e-6cd1-454d-a15f-78696416e083",
   "metadata": {},
   "source": [
    "Redshift histogram."
   ]
  },
  {
   "cell_type": "code",
   "execution_count": null,
   "id": "09db52cb-8aaf-4f90-b869-2adffce37f7b",
   "metadata": {},
   "outputs": [],
   "source": [
    "fig = plt.figure(figsize=(6, 2))\n",
    "plt.hist(train_z, bins=50, histtype='step', log=True, color='grey', label='specz')\n",
    "plt.hist(train_pz, bins=50, histtype='step', log=True, color='black', label='photz')\n",
    "plt.xlabel('redshift')\n",
    "plt.legend(loc='upper right')\n",
    "plt.show()\n",
    "\n",
    "fig = plt.figure(figsize=(6, 2))\n",
    "plt.hist(train_z, bins=100, histtype='step', color='grey', label='specz')\n",
    "plt.hist(train_pz, bins=100, histtype='step', color='black', label='photz')\n",
    "plt.xlim([0, 4])\n",
    "plt.xlabel('redshift')\n",
    "plt.show()"
   ]
  },
  {
   "cell_type": "markdown",
   "id": "4f06e8fd-09e7-4d5e-a7c8-d935e7656b16",
   "metadata": {},
   "source": [
    "Spec vs. phot redshift."
   ]
  },
  {
   "cell_type": "code",
   "execution_count": null,
   "id": "21bb67c5-d919-4360-aeb9-8c2285b03ba8",
   "metadata": {},
   "outputs": [],
   "source": [
    "fig = plt.figure(figsize=(4, 4))\n",
    "plt.plot(train_z, train_pz, 'o', ms=2, mew=0, alpha=0.2, color='black')\n",
    "plt.xlabel('spec z')\n",
    "plt.ylabel('phot z')\n",
    "plt.show()"
   ]
  },
  {
   "cell_type": "code",
   "execution_count": null,
   "id": "47fac08e-842c-456a-a799-2be18b771763",
   "metadata": {},
   "outputs": [],
   "source": [
    "fig = plt.figure(figsize=(4, 4))\n",
    "plt.plot(train_z, train_pz, 'o', ms=2, mew=0, alpha=0.2, color='black')\n",
    "plt.xlim([0, 2])\n",
    "plt.ylim([0, 2])\n",
    "plt.xlabel('spec z')\n",
    "plt.ylabel('CMNN phot z')\n",
    "plt.title(\"For TQ's PQ files; Tue Feb 4\")\n",
    "plt.show()"
   ]
  },
  {
   "cell_type": "markdown",
   "id": "62732e2b-d68c-4d80-94ac-7bc64746eb7a",
   "metadata": {},
   "source": [
    "Distribution of photo-z uncertainties."
   ]
  },
  {
   "cell_type": "code",
   "execution_count": null,
   "id": "2af2cdbf-d7be-41b9-a011-79842f3e4707",
   "metadata": {},
   "outputs": [],
   "source": [
    "fig = plt.figure(figsize=(6, 2))\n",
    "plt.hist(train_pze, bins=50, histtype='step', alpha=0.3, lw=10, color='black')\n",
    "plt.xlabel('photo-z uncertainty')\n",
    "plt.show()"
   ]
  },
  {
   "cell_type": "markdown",
   "id": "eca789dd-7edf-428e-8cbb-7e6c90c1c341",
   "metadata": {},
   "source": [
    "Re-plot but for galaxies with a photo-z uncertainty < 0.3 (arbitrary, just showing a cleaned up version)."
   ]
  },
  {
   "cell_type": "code",
   "execution_count": null,
   "id": "9983b369-c49e-40ab-8e59-57410e3093ae",
   "metadata": {},
   "outputs": [],
   "source": [
    "tx = np.where(train_pze < 0.3)[0]\n",
    "print('Galaxies with pze < 0.3: ', len(tx), ' out of ', len(train_pze))\n",
    "fig = plt.figure(figsize=(4, 4))\n",
    "plt.plot(train_z[tx], train_pz[tx], 'o', ms=2, mew=0, alpha=0.2, color='black')\n",
    "plt.xlim([0, 2])\n",
    "plt.ylim([0, 2])\n",
    "plt.xlabel('spec z')\n",
    "plt.ylabel('phot z')\n",
    "plt.show()"
   ]
  },
  {
   "cell_type": "code",
   "execution_count": null,
   "id": "ee8f5384-8357-4e79-9a07-e2cfd69993fe",
   "metadata": {},
   "outputs": [],
   "source": []
  }
 ],
 "metadata": {
  "kernelspec": {
   "display_name": "LSST",
   "language": "python",
   "name": "lsst"
  },
  "language_info": {
   "codemirror_mode": {
    "name": "ipython",
    "version": 3
   },
   "file_extension": ".py",
   "mimetype": "text/x-python",
   "name": "python",
   "nbconvert_exporter": "python",
   "pygments_lexer": "ipython3",
   "version": "3.11.11"
  }
 },
 "nbformat": 4,
 "nbformat_minor": 5
}
