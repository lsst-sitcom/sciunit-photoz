{
 "cells": [
  {
   "cell_type": "markdown",
   "id": "c6cf08b8-44b9-4170-899f-2d0bf32156e0",
   "metadata": {},
   "source": [
    "# Galaxy photometry demo\n",
    "\n",
    "Last verified to run: 2025-02-11\n",
    "\n",
    "RSP: usdf\n",
    "\n",
    "Image: w_2024_50\n",
    "\n",
    "Created by: Melissa Graham\n",
    "\n",
    "For the photo-z science unit to help get started with a bit of galaxy photometry analysis.\n",
    "\n",
    "## Import packages"
   ]
  },
  {
   "cell_type": "code",
   "execution_count": null,
   "id": "eadddfaa-72a2-4cd9-b0e9-4a2e77c38207",
   "metadata": {},
   "outputs": [],
   "source": [
    "import lsst.daf.butler as dafButler\n",
    "import matplotlib.pyplot as plt\n",
    "import numpy as np"
   ]
  },
  {
   "cell_type": "markdown",
   "id": "3fa04534-5b06-4e68-819a-2e1a5c3b8eb1",
   "metadata": {},
   "source": [
    "## Butler set up\n",
    "\n",
    "The recommendation is to use the most recent of the [LSSTComCam Intermittent Cumulative DRP Runs](https://rubinobs.atlassian.net/wiki/spaces/DM/pages/226656354/LSSTComCam+Intermittent+Cumulative+DRP+Runs).\n",
    "\n",
    "Today, that is the one which uses w_2025_05 and can be found in the butler on `repo/main` in the collection `LSSTComCam/runs/DRP/DP1/w_2025_05/DM-48666`."
   ]
  },
  {
   "cell_type": "code",
   "execution_count": null,
   "id": "00c0ae85-e47d-449f-9b5e-775cdf53eca3",
   "metadata": {},
   "outputs": [],
   "source": [
    "collection = \"LSSTComCam/runs/DRP/DP1/w_2025_05/DM-48666\"\n",
    "butler = dafButler.Butler(\"/repo/main\", collections=collection)\n",
    "registry = butler.registry\n",
    "use_skymap = \"lsst_cells_v1\""
   ]
  },
  {
   "cell_type": "markdown",
   "id": "e35daea6-4015-46d0-9a7b-820d2b59358c",
   "metadata": {},
   "source": [
    "Explore the registry."
   ]
  },
  {
   "cell_type": "code",
   "execution_count": null,
   "id": "b4000a75-9df6-4473-8332-469cbd4b10a9",
   "metadata": {},
   "outputs": [],
   "source": [
    "# searchterm = 'objectTable_tract'\n",
    "# searchterm = 'deepCoadd_*'\n",
    "# for dt in sorted(registry.queryDatasetTypes(searchterm)):\n",
    "#     print(dt)"
   ]
  },
  {
   "cell_type": "markdown",
   "id": "f94e93bf-5cf3-4e55-a358-ee5c8a0a31e7",
   "metadata": {},
   "source": [
    "## Get objects for tract 5063 in ECDFS\n",
    "\n",
    "I got tract 5063 from looking at the Plot Navigator,\n",
    "at the plots under `objectTableCore_coaddInputCount_SkyPlot`,\n",
    "and finding the tract that contains most of the ECDFS field at RA~53.\n",
    "\n",
    "There are definitely ways to search the butler for overlapping tracts, though, just didn't use them here."
   ]
  },
  {
   "cell_type": "code",
   "execution_count": null,
   "id": "85f2523f-3c34-427b-ad2f-564adeac6f55",
   "metadata": {},
   "outputs": [],
   "source": [
    "dataId = {'band': 'i', 'tract': 5063, 'skymap': 'lsst_cells_v1'}"
   ]
  },
  {
   "cell_type": "code",
   "execution_count": null,
   "id": "5a70dab4-8f62-46dd-81f3-769f68e1aba0",
   "metadata": {},
   "outputs": [],
   "source": [
    "objects = butler.get('objectTable_tract', dataId = dataId)"
   ]
  },
  {
   "cell_type": "code",
   "execution_count": null,
   "id": "c97c6f5e-06f5-4ec1-823b-25fd76166032",
   "metadata": {},
   "outputs": [],
   "source": [
    "# objects?"
   ]
  },
  {
   "cell_type": "code",
   "execution_count": null,
   "id": "de40745c-111e-4a3f-8003-9c465c533bc1",
   "metadata": {},
   "outputs": [],
   "source": [
    "# objects"
   ]
  },
  {
   "cell_type": "code",
   "execution_count": null,
   "id": "367e7b31-5378-4b88-8f52-e739d35160d5",
   "metadata": {},
   "outputs": [],
   "source": [
    "# objects.columns"
   ]
  },
  {
   "cell_type": "markdown",
   "id": "dc75d8b6-7373-43b6-ae0e-d3298933b16d",
   "metadata": {},
   "source": [
    "Flux columns (but not flags or errors)."
   ]
  },
  {
   "cell_type": "code",
   "execution_count": null,
   "id": "fdf6851e-cb81-4d62-9b5a-238f19c334ec",
   "metadata": {},
   "outputs": [],
   "source": [
    "# for col in objects.columns:\n",
    "#     if (col.find('lux') >= 0) \\\n",
    "#     & (col.find('lag') < 0) \\\n",
    "#     & (col.find('Err') < 0):\n",
    "#         print(col)"
   ]
  },
  {
   "cell_type": "markdown",
   "id": "a8e12634-1572-4d6e-8c7d-a7de83bf6cc2",
   "metadata": {},
   "source": [
    "Other columns; in this case, \"patch\"."
   ]
  },
  {
   "cell_type": "code",
   "execution_count": null,
   "id": "eaa32f36-dec6-465b-9211-032a04584ec9",
   "metadata": {},
   "outputs": [],
   "source": [
    "# for col in objects.columns:\n",
    "#     if (col.find('atch') >= 0):\n",
    "#         print(col)"
   ]
  },
  {
   "cell_type": "markdown",
   "id": "a6d3c42b-68ce-46c0-9a2e-714cfe447e6b",
   "metadata": {},
   "source": [
    "Check for the `detect` flags."
   ]
  },
  {
   "cell_type": "code",
   "execution_count": null,
   "id": "a3e89772-b6d1-43be-aa80-4b102ea8b16c",
   "metadata": {},
   "outputs": [],
   "source": [
    "# for col in objects.columns:\n",
    "#     if (col.find('etect') >= 0):\n",
    "#         print(col)"
   ]
  },
  {
   "cell_type": "markdown",
   "id": "5644838d-abd9-44ce-957f-a1b0a2e93199",
   "metadata": {},
   "source": [
    "Extendedness flags."
   ]
  },
  {
   "cell_type": "code",
   "execution_count": null,
   "id": "9005c492-ca95-4ead-8c15-39b363396f13",
   "metadata": {},
   "outputs": [],
   "source": [
    "# for col in objects.columns:\n",
    "#     if (col.find('xtend') >= 0):\n",
    "#         print(col)"
   ]
  },
  {
   "cell_type": "markdown",
   "id": "47e53226-a527-4dff-a976-e55e3b276288",
   "metadata": {},
   "source": [
    "Plot something simple, ra and dec, for this tract."
   ]
  },
  {
   "cell_type": "code",
   "execution_count": null,
   "id": "4ca1ad1a-e242-487f-ac29-72f393cb8e83",
   "metadata": {},
   "outputs": [],
   "source": [
    "fig = plt.figure(figsize=(4, 3))\n",
    "plt.plot(objects.coord_ra, objects.coord_dec, 'o', ms=1, alpha=0.2, mew=0)\n",
    "plt.show()"
   ]
  },
  {
   "cell_type": "markdown",
   "id": "41833a9a-ed2d-4787-8f85-4759135d64d9",
   "metadata": {},
   "source": [
    "List the patch number for this tract."
   ]
  },
  {
   "cell_type": "code",
   "execution_count": null,
   "id": "c8b5eb67-4f1e-4512-961b-d1de9a026e6d",
   "metadata": {},
   "outputs": [],
   "source": [
    "print(np.unique(objects.patch))"
   ]
  },
  {
   "cell_type": "markdown",
   "id": "10fd6818-877a-4ba3-acdc-ef922ee911ab",
   "metadata": {},
   "source": [
    "## Create magnitude and color arrays\n",
    "\n",
    "Calibrated fluxes are in nano-Janskies and the conversion is $m = -2.5 \\log(f) + 31.4$.\n",
    "\n",
    "Fluxes < 0.0 do exist and will cause errors."
   ]
  },
  {
   "cell_type": "code",
   "execution_count": null,
   "id": "b620d2f9-38e0-41d8-9959-0c65d94378dc",
   "metadata": {},
   "outputs": [],
   "source": [
    "def convert_flux_to_mag(fluxes):\n",
    "    return -2.5 * np.log10(fluxes) + 31.4\n",
    "\n",
    "def convert_fluxe_to_mage(fluxes, fluxerrs):\n",
    "    maxfluxes = fluxes + fluxerrs\n",
    "    mags1 = convert_flux_to_mag(fluxes)\n",
    "    mags2 = convert_flux_to_mag(maxfluxes)\n",
    "    return mags1 - mags2"
   ]
  },
  {
   "cell_type": "code",
   "execution_count": null,
   "id": "55a7b74c-2c5d-4031-b24b-3669b589d608",
   "metadata": {},
   "outputs": [],
   "source": [
    "fluxtypes = ['gaapOptimal','kron','cModel','psf']\n",
    "filternames = ['u','g','r','i','z','y']"
   ]
  },
  {
   "cell_type": "code",
   "execution_count": null,
   "id": "11c6de43-2d5b-4965-9524-320694c007c8",
   "metadata": {
    "scrolled": true
   },
   "outputs": [],
   "source": [
    "for fluxtype in fluxtypes:\n",
    "    for f,filt in enumerate(filternames):\n",
    "        fluxname = filt + '_' + fluxtype + 'Flux'\n",
    "        magname = filt + '_' + fluxtype + 'Mag'\n",
    "        fluxename = filt + '_' + fluxtype + 'FluxErr'\n",
    "        magename = filt + '_' + fluxtype + 'MagErr'\n",
    "        objects[magname] = convert_flux_to_mag(objects[fluxname])\n",
    "        objects[magename] = convert_fluxe_to_mage(objects[fluxname], objects[fluxename])"
   ]
  },
  {
   "cell_type": "code",
   "execution_count": null,
   "id": "474f8ee4-fede-4926-a575-576570899f60",
   "metadata": {},
   "outputs": [],
   "source": [
    "for fluxtype in fluxtypes:\n",
    "    for f,filt in enumerate(filternames):\n",
    "        if f < 5:\n",
    "            clrname = filt + filternames[f+1] + '_' + fluxtype + 'Clr'\n",
    "            clrename = filt + filternames[f+1] + '_' + fluxtype + 'ClrErr'\n",
    "            magname1 = filt + '_' + fluxtype + 'Mag'\n",
    "            magname2 = filternames[f+1] + '_' + fluxtype + 'Mag'\n",
    "            magename1 = filt + '_' + fluxtype + 'MagErr'\n",
    "            magename2 = filternames[f+1] + '_' + fluxtype + 'MagErr'\n",
    "            objects[clrname] = objects[magname1] - objects[magname2]\n",
    "            objects[clrename] = np.sqrt((objects[magename1])**2 +\n",
    "                                        (objects[magename2])**2)"
   ]
  },
  {
   "cell_type": "code",
   "execution_count": null,
   "id": "029f9b89-9223-4559-89df-9b1691bc23d1",
   "metadata": {},
   "outputs": [],
   "source": [
    "# for col in objects.columns:\n",
    "#     if (col.find('Mag') >= 0):\n",
    "#         print(col)"
   ]
  },
  {
   "cell_type": "markdown",
   "id": "215a3203-ef12-4125-9029-46d901225f1c",
   "metadata": {},
   "source": [
    "## Apply conditions and make some plots\n",
    "\n",
    "Conditions:\n",
    " * `detect_isPrimary` = True (reject duplicate and parent objects)\n",
    " * `refExtendedness` = 1"
   ]
  },
  {
   "cell_type": "code",
   "execution_count": null,
   "id": "9ae01741-ba2b-4c31-a5e1-c08897ccbca4",
   "metadata": {},
   "outputs": [],
   "source": [
    "ix = np.where((objects['detect_isPrimary']) &\n",
    "              (objects['refExtendedness']) == 1)[0]\n",
    "print(len(ix), ' out of ', len(objects), ' seem like primary, extended objects')"
   ]
  },
  {
   "cell_type": "markdown",
   "id": "9190c4d4-dc2f-4082-ac70-e4017b4d4eb7",
   "metadata": {},
   "source": [
    "Again the simple plot of RA vs Dec, but with the conditions applied."
   ]
  },
  {
   "cell_type": "code",
   "execution_count": null,
   "id": "266517aa-b43a-461d-bd7b-134aa57d7fee",
   "metadata": {},
   "outputs": [],
   "source": [
    "fig = plt.figure(figsize=(4, 3))\n",
    "plt.plot(objects['coord_ra'].loc[ix], objects['coord_dec'].loc[ix],\n",
    "         'o', ms=1, alpha=0.2, mew=0)\n",
    "plt.show()"
   ]
  },
  {
   "cell_type": "markdown",
   "id": "2c45f800-2407-40bf-9b76-b1f2005b0466",
   "metadata": {},
   "source": [
    "How many of the 216613 \"galaxies\" have i-band fluxes < 0."
   ]
  },
  {
   "cell_type": "code",
   "execution_count": null,
   "id": "7f6c8f32-2756-408d-881d-6b5c1328551e",
   "metadata": {},
   "outputs": [],
   "source": [
    "for fluxtype in fluxtypes:\n",
    "    print(fluxtype, len(np.where(objects['i_'+fluxtype+'Flux'].loc[ix] < 0.0)[0]))"
   ]
  },
  {
   "cell_type": "markdown",
   "id": "bb5b45f7-dba6-4d12-939a-c03e7255bdf5",
   "metadata": {},
   "source": [
    "Show, in the $i$-band, the distribution of fluxes (including flux<0)."
   ]
  },
  {
   "cell_type": "code",
   "execution_count": null,
   "id": "ed2978be-4a73-4c1d-9024-b647f00fd005",
   "metadata": {},
   "outputs": [],
   "source": [
    "fig = plt.figure(figsize=(4, 3))\n",
    "for fluxtype in fluxtypes:\n",
    "    plt.hist(objects['i_'+fluxtype+'Flux'].loc[ix],\n",
    "             bins=100, log=True, histtype='step', label=fluxtype)\n",
    "plt.legend(loc='upper right')\n",
    "plt.xlabel('flux')\n",
    "plt.show()"
   ]
  },
  {
   "cell_type": "code",
   "execution_count": null,
   "id": "1424138e-831b-4294-ace9-72c809ac1de8",
   "metadata": {},
   "outputs": [],
   "source": [
    "print('flux for mag 17, nearing saturation: ', np.power(10, (17.0-31.4)/(-2.5)))"
   ]
  },
  {
   "cell_type": "markdown",
   "id": "e7f64951-b6a1-4115-9344-179966aef8e6",
   "metadata": {},
   "source": [
    "Take out objects measured as \"bright\" $flux > 575439$ nJy by any measure, or\n",
    "with $flux < 0$ by any measure."
   ]
  },
  {
   "cell_type": "code",
   "execution_count": null,
   "id": "35fe1767-234a-4c7f-8ac8-d0319cdb9fd0",
   "metadata": {},
   "outputs": [],
   "source": [
    "maxflux = 575439.0\n",
    "tx = np.where((objects['i_psfFlux'].loc[ix] < maxflux) &\n",
    "              (objects['i_kronFlux'].loc[ix] < maxflux) &\n",
    "              (objects['i_cModelFlux'].loc[ix] < maxflux) &\n",
    "              (objects['i_gaapOptimalFlux'].loc[ix] < maxflux) & \n",
    "              (objects['i_psfFlux'].loc[ix] > 0) &\n",
    "              (objects['i_kronFlux'].loc[ix] > 0) &\n",
    "              (objects['i_cModelFlux'].loc[ix] > 0) &\n",
    "              (objects['i_gaapOptimalFlux'].loc[ix] > 0))[0]\n",
    "print(len(tx))"
   ]
  },
  {
   "cell_type": "code",
   "execution_count": null,
   "id": "9d71de9b-4caf-40a1-856a-360503cc525b",
   "metadata": {},
   "outputs": [],
   "source": [
    "fig = plt.figure(figsize=(4, 3))\n",
    "for fluxtype in fluxtypes:\n",
    "    plt.hist(objects['i_'+fluxtype+'Flux'].loc[ix[tx]],\n",
    "             bins=100, log=True, histtype='step', label=fluxtype)\n",
    "plt.legend(loc='upper right')\n",
    "plt.xlabel('flux')\n",
    "plt.show()"
   ]
  },
  {
   "cell_type": "code",
   "execution_count": null,
   "id": "948f8238-f95b-43b2-8b04-a0e02d26d060",
   "metadata": {},
   "outputs": [],
   "source": [
    "fig = plt.figure(figsize=(4, 3))\n",
    "for fluxtype in fluxtypes:\n",
    "    plt.hist(objects['i_'+fluxtype+'Mag'].loc[ix[tx]],\n",
    "             bins=100, log=True, histtype='step', label=fluxtype)\n",
    "plt.legend(loc='upper right')\n",
    "plt.xlabel('magnitude')\n",
    "plt.show()"
   ]
  },
  {
   "cell_type": "markdown",
   "id": "677e35f0-8f23-4c8d-accf-b81a8b2cb981",
   "metadata": {},
   "source": [
    "Compare measures, in magnitudes, in $i$-band."
   ]
  },
  {
   "cell_type": "code",
   "execution_count": null,
   "id": "c4a05ed3-5309-40cc-bafa-393737759c16",
   "metadata": {},
   "outputs": [],
   "source": [
    "fig, axs = plt.subplots(1, 3, figsize=(6, 2))\n",
    "axs[0].plot(objects['i_psfMag'].loc[ix[tx]],\n",
    "            objects['i_gaapOptimalMag'].loc[ix[tx]],\n",
    "            'o', ms=1, alpha=0.2, mew=0)\n",
    "axs[0].set_xlabel('i_psfMag')\n",
    "axs[0].set_ylabel('i_gaapOptimalMag')\n",
    "axs[1].plot(objects['i_psfMag'].loc[ix[tx]],\n",
    "            objects['i_cModelMag'].loc[ix[tx]],\n",
    "            'o', ms=1, alpha=0.2, mew=0)\n",
    "axs[1].set_xlabel('i_psfMag')\n",
    "axs[1].set_ylabel('i_cModelMag')\n",
    "axs[2].plot(objects['i_psfMag'].loc[ix[tx]],\n",
    "            objects['i_kronMag'].loc[ix[tx]],\n",
    "            'o', ms=1, alpha=0.2, mew=0)\n",
    "axs[2].set_xlabel('i_psfMag')\n",
    "axs[2].set_ylabel('i_kronMag')\n",
    "fig.tight_layout()\n",
    "fig.show()"
   ]
  },
  {
   "cell_type": "code",
   "execution_count": null,
   "id": "f4af5b24-5599-4ecd-b3f4-9ae491d6fd3e",
   "metadata": {},
   "outputs": [],
   "source": []
  }
 ],
 "metadata": {
  "kernelspec": {
   "display_name": "LSST",
   "language": "python",
   "name": "lsst"
  },
  "language_info": {
   "codemirror_mode": {
    "name": "ipython",
    "version": 3
   },
   "file_extension": ".py",
   "mimetype": "text/x-python",
   "name": "python",
   "nbconvert_exporter": "python",
   "pygments_lexer": "ipython3",
   "version": "3.11.9"
  }
 },
 "nbformat": 4,
 "nbformat_minor": 5
}
