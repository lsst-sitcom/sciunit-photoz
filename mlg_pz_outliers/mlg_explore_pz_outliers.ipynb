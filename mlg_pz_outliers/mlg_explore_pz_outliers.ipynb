{
 "cells": [
  {
   "cell_type": "markdown",
   "id": "396ce2fb-d007-4d97-a1cf-706e06dc31e4",
   "metadata": {},
   "source": [
    "# Explore PZ for ComCam\n",
    "\n",
    "Melissa Graham\n",
    "\n",
    "Wed Mar 26 2025\n",
    "\n",
    "## Introduction\n",
    "\n",
    "Explore the PZ that have been generated for ComCam.\n",
    "\n",
    "### Import packages"
   ]
  },
  {
   "cell_type": "code",
   "execution_count": null,
   "id": "3caa5dc2-59f4-4af2-a0d7-dacb163aaef3",
   "metadata": {},
   "outputs": [],
   "source": [
    "import os\n",
    "import numpy as np\n",
    "import pandas as pd\n",
    "import matplotlib.pyplot as plt\n",
    "import qp\n",
    "import h5py\n",
    "\n",
    "import lsst.afw.display as afwDisplay\n",
    "from lsst.daf.butler import Butler\n",
    "import lsst.geom"
   ]
  },
  {
   "cell_type": "markdown",
   "id": "89fd6e96-27cb-406a-9db8-14ebac4593c0",
   "metadata": {},
   "source": [
    "## Load data\n",
    "\n",
    "Use ECDFS for this testing.\n",
    "\n",
    "### PZ results files\n",
    "\n",
    "Eric Charles has run PZ estimators on ComCam data.\n",
    "\n",
    "The PZ results are stored in hdf5 files:\n",
    "\n",
    "```\n",
    "/sdf/data/rubin/shared/pz/projects/com_cam/data/gold_<flavor>/ECDFS/output_estimate_<algo>.hdf5\n",
    "```\n",
    "\n",
    "More information about flavors, algorithms, templates, and selections can be found in:\n",
    "\n",
    "```\n",
    "/sdf/data/rubin/shared/pz/users/echarles/work/rail_project_config/com_cam/com_cam.yaml\n",
    "```\n",
    "\n",
    "and `com_cam_library.yaml`.\n",
    "\n",
    "From `com_cam.yaml` can see\n",
    "\n",
    "```\n",
    "root: /sdf/data/rubin/shared/pz\n",
    "scratch_root: \"{root}\"\n",
    "catalogs_dir: \"{root}/data\"\n",
    "tract = 5063\n",
    "```\n",
    "\n",
    "So the input files are in\n",
    "`/sdf/data/rubin/shared/pz/data/com_cam_dp1_gold/5063/`\n",
    "\n",
    "such as `objectTable_tract.pq` and others.\n",
    "\n",
    "\n",
    "Start with `flavor` = baseline and `algo` = knn."
   ]
  },
  {
   "cell_type": "code",
   "execution_count": null,
   "id": "f65992ab-a67b-4092-ad6c-b0f3d810e493",
   "metadata": {},
   "outputs": [],
   "source": [
    "pz_results_file = '/sdf/data/rubin/shared/pz/projects/com_cam/data/gold_baseline/ECDFS/output_estimate_knn.hdf5'"
   ]
  },
  {
   "cell_type": "code",
   "execution_count": null,
   "id": "57bfaffd-5b93-47df-a0d5-6433059afe63",
   "metadata": {},
   "outputs": [],
   "source": [
    "ensemble = qp.read(pz_results_file)"
   ]
  },
  {
   "cell_type": "code",
   "execution_count": null,
   "id": "5b7167fb-716f-4855-9b80-68bae20b7cfe",
   "metadata": {},
   "outputs": [],
   "source": [
    "ensemble.ancil"
   ]
  },
  {
   "cell_type": "code",
   "execution_count": null,
   "id": "44e1e6de-1970-482d-bd35-3483032d97fc",
   "metadata": {},
   "outputs": [],
   "source": [
    "# ensemble.objdata()"
   ]
  },
  {
   "cell_type": "code",
   "execution_count": null,
   "id": "d3cfb5f9-248a-46df-9807-0916af1285dc",
   "metadata": {},
   "outputs": [],
   "source": [
    "ensemble.ancil['zmode']"
   ]
  },
  {
   "cell_type": "code",
   "execution_count": null,
   "id": "905a65e3-b64d-49db-aa8d-91b5adbad46c",
   "metadata": {},
   "outputs": [],
   "source": [
    "print(len(ensemble.ancil['zmode']))"
   ]
  },
  {
   "cell_type": "markdown",
   "id": "6b7b49e2-5976-4dad-b545-3e5d2e077f20",
   "metadata": {},
   "source": [
    "The photometric redshifts are in an array of single-element arrays. Convert this to a numpy array."
   ]
  },
  {
   "cell_type": "code",
   "execution_count": null,
   "id": "d556466c-6009-4727-a6d1-7ab534ee2627",
   "metadata": {},
   "outputs": [],
   "source": [
    "zmode = ensemble.ancil['zmode']"
   ]
  },
  {
   "cell_type": "code",
   "execution_count": null,
   "id": "19fbeb2f-9c0c-4cd3-b564-4f203c6a3543",
   "metadata": {},
   "outputs": [],
   "source": [
    "data = zmode.T"
   ]
  },
  {
   "cell_type": "code",
   "execution_count": null,
   "id": "465f06f5-6945-4f8d-8800-a16aeaa5d600",
   "metadata": {},
   "outputs": [],
   "source": [
    "object_pz = np.asarray(data[0], dtype='float')"
   ]
  },
  {
   "cell_type": "code",
   "execution_count": null,
   "id": "4ea140a0-47f3-41db-885e-a000b187db9b",
   "metadata": {},
   "outputs": [],
   "source": [
    "object_pz"
   ]
  },
  {
   "cell_type": "code",
   "execution_count": null,
   "id": "683d8048-a8e3-4fd0-bf65-ed290a11888e",
   "metadata": {},
   "outputs": [],
   "source": [
    "del ensemble, zmode, data, pz_results_file"
   ]
  },
  {
   "cell_type": "markdown",
   "id": "4fa16ba0-3469-4e05-891d-92891c860844",
   "metadata": {},
   "source": [
    "### Object IDs for PZ results\n",
    "\n",
    "The bit of code needed to copy the `objectId` to the `qp` files does not yet exist.\n",
    "\n",
    "For now, retrieve the `objectId` from this file:\n",
    "\n",
    "```\n",
    "/sdf/data/rubin/shared/pz/data/test/com_cam_dp1_gold_ECDFS.hdf5\n",
    "```\n",
    "\n",
    "Learn how to read hdf5 files: https://stackoverflow.com/questions/28170623/how-to-read-hdf5-files-in-python"
   ]
  },
  {
   "cell_type": "code",
   "execution_count": null,
   "id": "274661c3-0ae6-417f-8f21-4a2306d13c05",
   "metadata": {},
   "outputs": [],
   "source": [
    "# filename = \"/sdf/data/rubin/shared/pz/data/test/com_cam_dp1_gold_ECDFS.hdf5\"\n",
    "\n",
    "# with h5py.File(filename, \"r\") as f:\n",
    "#     # Print all root level object names (aka keys) \n",
    "#     # these can be group or dataset names \n",
    "#     print(\"Keys: %s\" % f.keys())\n",
    "#     # get first object name/key; may or may NOT be a group\n",
    "#     a_group_key = list(f.keys())[0]\n",
    "\n",
    "#     # get the object type for a_group_key: usually group or dataset\n",
    "#     print(type(f[a_group_key])) \n",
    "\n",
    "#     # If a_group_key is a group name, \n",
    "#     # this gets the object names in the group and returns as a list\n",
    "#     # data = list(f[a_group_key])\n",
    "\n",
    "#     # If a_group_key is a dataset name, \n",
    "#     # this gets the dataset values and returns as a list\n",
    "#     data = list(f[a_group_key])\n",
    "#     # preferred methods to get dataset values:\n",
    "#     ds_obj = f[a_group_key]      # returns as a h5py dataset object\n",
    "#     ds_arr = f[a_group_key][()]  # returns as a numpy array"
   ]
  },
  {
   "cell_type": "code",
   "execution_count": null,
   "id": "77f8c98b-1cc1-49c0-bf0c-0bcf4a311b0c",
   "metadata": {},
   "outputs": [],
   "source": [
    "# data"
   ]
  },
  {
   "cell_type": "code",
   "execution_count": null,
   "id": "a7355224-d9d6-4d73-b987-e57d94a56db3",
   "metadata": {},
   "outputs": [],
   "source": [
    "# ds_arr"
   ]
  },
  {
   "cell_type": "code",
   "execution_count": null,
   "id": "b4eaaccc-b93e-45a1-b312-b70fc48e956a",
   "metadata": {},
   "outputs": [],
   "source": [
    "# print(len(ds_arr))"
   ]
  },
  {
   "cell_type": "markdown",
   "id": "6dacac11-2cc9-4637-ad5b-58ad45bd4865",
   "metadata": {},
   "source": [
    "Read a few columns into numpy arrays.\n",
    "\n",
    "The column keys are:\n",
    "\n",
    "```\n",
    "Keys: <KeysViewHDF5 ['dec', 'g_cModelMag', 'g_cModelMagErr', 'i_cModelMag', 'i_cModelMagErr', 'objectId', 'r_cModelMag', 'r_cModelMagErr', 'ra', 'u_cModelMag', 'u_cModelMagErr', 'y_cModelMag', 'y_cModelMagErr', 'z_cModelMag', 'z_cModelMagErr']>\n",
    "```"
   ]
  },
  {
   "cell_type": "code",
   "execution_count": null,
   "id": "a062fa3a-90ed-4e36-b697-0004c48c513c",
   "metadata": {},
   "outputs": [],
   "source": [
    "filename = \"/sdf/data/rubin/shared/pz/data/test/com_cam_dp1_gold_ECDFS.hdf5\""
   ]
  },
  {
   "cell_type": "code",
   "execution_count": null,
   "id": "da28f327-d813-42db-94a7-ef360d862fcf",
   "metadata": {},
   "outputs": [],
   "source": [
    "c = 5\n",
    "with h5py.File(filename, \"r\") as f:\n",
    "    a_group_key = list(f.keys())[c]\n",
    "    data = list(f[a_group_key])\n",
    "    object_ids = f[a_group_key][()]"
   ]
  },
  {
   "cell_type": "code",
   "execution_count": null,
   "id": "b4eef025-9b1a-4283-a06e-5a6ca8cb6016",
   "metadata": {},
   "outputs": [],
   "source": [
    "c = 6\n",
    "with h5py.File(filename, \"r\") as f:\n",
    "    a_group_key = list(f.keys())[c]\n",
    "    data = list(f[a_group_key])\n",
    "    object_rmag = f[a_group_key][()]"
   ]
  },
  {
   "cell_type": "code",
   "execution_count": null,
   "id": "cb32d828-5987-4465-8444-24ef81ea000b",
   "metadata": {},
   "outputs": [],
   "source": [
    "c = 8\n",
    "with h5py.File(filename, \"r\") as f:\n",
    "    a_group_key = list(f.keys())[c]\n",
    "    data = list(f[a_group_key])\n",
    "    object_ra = f[a_group_key][()]"
   ]
  },
  {
   "cell_type": "code",
   "execution_count": null,
   "id": "03b5b32c-5b7b-4e8e-bc49-81b2db78cb14",
   "metadata": {},
   "outputs": [],
   "source": [
    "c = 0\n",
    "with h5py.File(filename, \"r\") as f:\n",
    "    a_group_key = list(f.keys())[c]\n",
    "    data = list(f[a_group_key])\n",
    "    object_dec = f[a_group_key][()]"
   ]
  },
  {
   "cell_type": "code",
   "execution_count": null,
   "id": "fb7593a8-82b3-4d12-af9a-01ac8b2c851b",
   "metadata": {},
   "outputs": [],
   "source": [
    "print(len(object_ra))"
   ]
  },
  {
   "cell_type": "markdown",
   "id": "56c0aab1-935f-43b9-974b-50655bc43fac",
   "metadata": {},
   "source": [
    "Quick plot of object coordinates shows that duplicates were included (`detect_isPrimary` was not constrained to True)."
   ]
  },
  {
   "cell_type": "code",
   "execution_count": null,
   "id": "0cd5c56e-8497-4562-9cb7-2319f3d35eed",
   "metadata": {},
   "outputs": [],
   "source": [
    "fig = plt.figure(figsize=(6, 4))\n",
    "plt.plot(object_ra, object_dec, 'o', ms=1, mew=0, alpha=0.1, color='black')\n",
    "plt.show()"
   ]
  },
  {
   "cell_type": "markdown",
   "id": "2f9b2c8c-8134-4a35-b514-1387ee37cc1a",
   "metadata": {
    "execution": {
     "iopub.execute_input": "2025-03-26T18:27:45.773804Z",
     "iopub.status.busy": "2025-03-26T18:27:45.773294Z",
     "iopub.status.idle": "2025-03-26T18:27:45.776623Z",
     "shell.execute_reply": "2025-03-26T18:27:45.776281Z",
     "shell.execute_reply.started": "2025-03-26T18:27:45.773785Z"
    }
   },
   "source": [
    "### Additional object properties\n",
    "\n",
    "The input file is:\n",
    "\n",
    "`/sdf/data/rubin/shared/pz/data/com_cam_dp1_gold/5063/objectTable_tract.pq`.\n",
    "\n",
    "This is just the same as what was the hdf5 file above."
   ]
  },
  {
   "cell_type": "code",
   "execution_count": null,
   "id": "e864c476-40b7-450f-bb6a-c659311aaef1",
   "metadata": {},
   "outputs": [],
   "source": [
    "# filename = '/sdf/data/rubin/shared/pz/data/com_cam_dp1_gold/5063/objectTable_tract.pq'\n",
    "# results = pd.read_parquet(filename)\n",
    "# results"
   ]
  },
  {
   "cell_type": "markdown",
   "id": "32943fe5-345c-46d4-8e5b-6a58f881a579",
   "metadata": {},
   "source": [
    "Go back to the butler and pull out fluxes and shape measurements like sizes.\n",
    "\n",
    "```\n",
    "repo = /repo/main\n",
    "collection = LSSTComCam/runs/DRP/DP1/w_2025_10/DM-49359\n",
    "skymap='lsst_cells_v1'\n",
    "input collection: LSSTComCam/DP1/defaults\n",
    "```"
   ]
  },
  {
   "cell_type": "code",
   "execution_count": null,
   "id": "bca8d95a-7fe0-4889-8e5f-ac2ee6728cb0",
   "metadata": {},
   "outputs": [],
   "source": [
    "# butler = Butler('/repo/main', collections=\"LSSTComCam/runs/DRP/DP1/w_2025_10/DM-49359\")\n",
    "butler = Butler('/repo/main', collections=\"LSSTComCam/runs/DRP/DP1/w_2025_09/DM-49235\")"
   ]
  },
  {
   "cell_type": "markdown",
   "id": "4c9ac153-f6df-406e-8637-a50f34f08e58",
   "metadata": {},
   "source": [
    "Size-related columns\n",
    "\n",
    "```\n",
    "refExtendedness\n",
    "footprintArea\n",
    "<f>_bdReB, <f>_bdReD\n",
    "<f>_ixx, <f>_iyy, <f>_ixy\n",
    "```"
   ]
  },
  {
   "cell_type": "code",
   "execution_count": null,
   "id": "c3026fae-3a2b-45dc-ab89-a2d8e4e71f89",
   "metadata": {},
   "outputs": [],
   "source": [
    "columns = ['objectId', 'detect_isPrimary', 'coord_ra', 'coord_dec',\n",
    "           'tract', 'patch', \n",
    "           'u_cModelFlux', 'g_cModelFlux', 'r_cModelFlux',\n",
    "           'i_cModelFlux', 'z_cModelFlux', 'y_cModelFlux',\n",
    "           'refExtendedness', 'footprintArea', 'r_bdReB', 'r_bdReD',\n",
    "           'r_ixx', 'r_ixy', 'r_iyy']\n",
    "object_table = butler.get('objectTable_tract', skymap='lsst_cells_v1', tract=5063,\n",
    "                          parameters={'columns': columns})"
   ]
  },
  {
   "cell_type": "code",
   "execution_count": null,
   "id": "af96220b-055e-435a-a95c-2367f6cb988e",
   "metadata": {},
   "outputs": [],
   "source": [
    "object_table"
   ]
  },
  {
   "cell_type": "code",
   "execution_count": null,
   "id": "1c07f422-776e-4e95-99d6-18b25c1e6d7f",
   "metadata": {},
   "outputs": [],
   "source": [
    "tx = np.where(object_table['detect_isPrimary'])[0]\n",
    "print(len(tx))"
   ]
  },
  {
   "cell_type": "code",
   "execution_count": null,
   "id": "6e4194d6-b4c9-41d1-b58f-ac31479b7f18",
   "metadata": {},
   "outputs": [],
   "source": [
    "# for i in range(30):\n",
    "#     tx = np.where(object_table['objectId'] == object_ids[i])[0]\n",
    "#     if len(tx) > 0:\n",
    "#         tmp = -2.5 * np.log10(float(object_table['r_cModelFlux'][tx[0]])) + 31.4\n",
    "#         print(i, len(tx),\n",
    "#               np.round(object_rmag[i], 2),\n",
    "#               np.round(tmp, 2),\n",
    "#               object_table['detect_isPrimary'][tx[0]])\n",
    "#         del tmp\n",
    "#     else:\n",
    "#         print(i, len(tx))\n",
    "#     del tx"
   ]
  },
  {
   "cell_type": "markdown",
   "id": "1512c7fb-9f69-4346-9b56-0df9ff0e4247",
   "metadata": {},
   "source": [
    "### Match\n",
    "\n",
    "So far we have:\n",
    "```\n",
    "object_ids\n",
    "object_rmags\n",
    "object_ra\n",
    "object_dec\n",
    "object_pz\n",
    "```\n",
    "\n",
    "Create also `object_ix` which will be the object's index in the butler `object_table`."
   ]
  },
  {
   "cell_type": "code",
   "execution_count": null,
   "id": "778e2b92-82f0-411b-b1b8-7a5680bc2144",
   "metadata": {},
   "outputs": [],
   "source": [
    "object_ix = np.zeros(len(object_ids), dtype='int') - 1\n",
    "\n",
    "for i in range(len(object_ids)):\n",
    "    tx = np.where(object_table['objectId'] == object_ids[i])[0]\n",
    "    if len(tx) > 0:\n",
    "        object_ix[i] = tx[0]\n",
    "    del tx\n",
    "\n",
    "tx = np.where(object_ix >= 0)[0]\n",
    "print(len(tx), ' out of ', len(object_ids), ' matched.')"
   ]
  },
  {
   "cell_type": "markdown",
   "id": "7d2cb0ce-f93f-488f-9edc-7824e307aaac",
   "metadata": {},
   "source": [
    "## Visualize PZ on deepCoadd\n",
    "\n",
    "### Choose a patch\n",
    "\n",
    "Pick coordinates for some nice low-z looking galaxies. Get the corresponding patch."
   ]
  },
  {
   "cell_type": "code",
   "execution_count": null,
   "id": "b33ed2cf-966e-445c-b1f3-ebf20fdff2ae",
   "metadata": {},
   "outputs": [],
   "source": [
    "my_ra_deg = 53.3360614\n",
    "my_dec_deg = -27.8093222\n",
    "my_spherePoint = lsst.geom.SpherePoint(my_ra_deg*lsst.geom.degrees,\n",
    "                                       my_dec_deg*lsst.geom.degrees)\n",
    "skymap = butler.get('skyMap', skymap='lsst_cells_v1')\n",
    "tract = skymap.findTract(my_spherePoint)\n",
    "patch = tract.findPatch(my_spherePoint)\n",
    "my_tract = tract.tract_id\n",
    "my_patch = patch.getSequentialIndex()\n",
    "print('my_tract: ', my_tract)\n",
    "print('my_patch: ', my_patch)"
   ]
  },
  {
   "cell_type": "markdown",
   "id": "8c0021ba-5761-4ec8-bab6-95af41b89034",
   "metadata": {},
   "source": [
    "Visualize whereabouts this is in the tract using object coordinates."
   ]
  },
  {
   "cell_type": "code",
   "execution_count": null,
   "id": "3ffd0bfd-2669-4c71-b908-e0a1820bfe88",
   "metadata": {},
   "outputs": [],
   "source": [
    "fig = plt.figure(figsize=(6, 4))\n",
    "plt.plot(object_ra, object_dec,\n",
    "         'o', ms=2, mew=0, alpha=0.1, color='black')\n",
    "plt.plot(my_ra_deg, my_dec_deg, '*', ms=10, color='cyan')\n",
    "plt.xlabel('ra')\n",
    "plt.ylabel('dec')\n",
    "plt.gca().invert_xaxis()\n",
    "plt.show()"
   ]
  },
  {
   "cell_type": "markdown",
   "id": "74f53e95-98a4-4d92-915d-5c03c3e6276f",
   "metadata": {},
   "source": [
    "### Get the deepCoadd patch"
   ]
  },
  {
   "cell_type": "code",
   "execution_count": null,
   "id": "09284ffd-c468-46bb-a674-c70f07433da2",
   "metadata": {},
   "outputs": [],
   "source": [
    "my_image = butler.get('deepCoadd',\n",
    "                      tract=my_tract, patch=my_patch,\n",
    "                      band='r', skymap='lsst_cells_v1')"
   ]
  },
  {
   "cell_type": "code",
   "execution_count": null,
   "id": "abc497a3-88a0-4c14-97e3-b307102d2fbe",
   "metadata": {},
   "outputs": [],
   "source": [
    "my_wcs = my_image.getWcs()"
   ]
  },
  {
   "cell_type": "markdown",
   "id": "1d9234df-aa5a-499e-a23a-7cb7300f35dd",
   "metadata": {},
   "source": [
    "### Set pz bins"
   ]
  },
  {
   "cell_type": "code",
   "execution_count": null,
   "id": "2fc6ed0b-63c2-495f-95b7-ee1228ea3fd5",
   "metadata": {},
   "outputs": [],
   "source": [
    "use_pz = [0.04, 0.1, 0.2, 0.3, 0.5, 0.7, 1.0, 1.5]\n",
    "use_clr = ['cyan', 'blue', 'purple', 'green',\n",
    "           'yellow', 'orange', 'red', 'magenta']"
   ]
  },
  {
   "cell_type": "markdown",
   "id": "e841d552-bc93-4e0f-b35e-f21c5cf4a4e9",
   "metadata": {},
   "source": [
    "### Use Firefly"
   ]
  },
  {
   "cell_type": "code",
   "execution_count": null,
   "id": "533829f8-e3ad-4357-8312-006a9133e2a9",
   "metadata": {},
   "outputs": [],
   "source": [
    "# afwDisplay.setDefaultBackend('firefly')\n",
    "# afw_display = afwDisplay.Display(frame=1)"
   ]
  },
  {
   "cell_type": "code",
   "execution_count": null,
   "id": "380a813f-2664-4274-96ac-534f6c9d6457",
   "metadata": {},
   "outputs": [],
   "source": [
    "# afw_display.mtv(my_image)"
   ]
  },
  {
   "cell_type": "code",
   "execution_count": null,
   "id": "d49e5536-7d02-4dad-90e1-1050c71b85fc",
   "metadata": {},
   "outputs": [],
   "source": [
    "# afw_display.setMaskTransparency(100)"
   ]
  },
  {
   "cell_type": "code",
   "execution_count": null,
   "id": "006a7f78-7863-4111-ae1d-27fc343fd748",
   "metadata": {},
   "outputs": [],
   "source": [
    "# afw_display.erase()"
   ]
  },
  {
   "cell_type": "code",
   "execution_count": null,
   "id": "90fc40e4-7d2e-4429-9d94-d2851acb0601",
   "metadata": {},
   "outputs": [],
   "source": [
    "# low_pz = 0.0\n",
    "# for p in range(8):\n",
    "#     tx = np.where((object_pz > low_pz) &\n",
    "#                   (object_pz <= use_pz[p]) &\n",
    "#                   (object_table['patch'][object_ix] == my_patch) &\n",
    "#                   (object_table['detect_isPrimary'][object_ix]))[0]\n",
    "#     print(low_pz, use_pz[p], len(tx),\n",
    "#           use_clr[p])\n",
    "#     low_pz = use_pz[p]\n",
    "\n",
    "#     if len(tx) > 0:\n",
    "#         with afw_display.Buffering():\n",
    "#             for x in tx:\n",
    "#                 coord = lsst.geom.SpherePoint(object_ra[x],\n",
    "#                                               object_dec[x],\n",
    "#                                               lsst.geom.degrees)\n",
    "#                 xy = my_wcs.skyToPixel(coord)\n",
    "#                 afw_display.dot('o', xy.getX(), xy.getY(),\n",
    "#                                 size=20, ctype=use_clr[p])"
   ]
  },
  {
   "cell_type": "markdown",
   "id": "cb340ee0-b399-425e-8e20-84e4f28e7c50",
   "metadata": {},
   "source": [
    "### Use matplotlib"
   ]
  },
  {
   "cell_type": "code",
   "execution_count": null,
   "id": "60482004-1346-448d-98a1-724e529e8ec8",
   "metadata": {},
   "outputs": [],
   "source": [
    "afwDisplay.setDefaultBackend('matplotlib')"
   ]
  },
  {
   "cell_type": "code",
   "execution_count": null,
   "id": "22f967a8-ec7d-43ef-b2d5-423b8b6e2f03",
   "metadata": {},
   "outputs": [],
   "source": [
    "low_pz = 0\n",
    "for p in range(8):\n",
    "    fig, ax = plt.subplots(figsize=(6, 6))\n",
    "    display = afwDisplay.Display(frame=fig)\n",
    "    display.scale('asinh', 'zscale')\n",
    "    display.mtv(my_image.image)\n",
    "    ax.set_axis_off()\n",
    "    tx = np.where((object_pz > low_pz) &\n",
    "                  (object_pz <= use_pz[p]) &\n",
    "                  (object_table['patch'][object_ix] == my_patch) &\n",
    "                  (object_table['detect_isPrimary'][object_ix]))[0]\n",
    "    if len(tx) > 0:\n",
    "        with display.Buffering():\n",
    "            for x in tx:\n",
    "                coord = lsst.geom.SpherePoint(object_ra[x],\n",
    "                                              object_dec[x],\n",
    "                                              lsst.geom.degrees)\n",
    "                xy = my_wcs.skyToPixel(coord)\n",
    "                display.dot('o', xy.getX(), xy.getY(),\n",
    "                            size=20, ctype=use_clr[p])\n",
    "    title = str(low_pz) + ' - ' + str(use_pz[p]) + \\\n",
    "            ' (' + str(len(tx)) + ')'\n",
    "    plt.title(title)\n",
    "    plt.show()\n",
    "    low_pz = use_pz[p]\n",
    "    del tx, title"
   ]
  },
  {
   "cell_type": "markdown",
   "id": "4184582c-e96b-43ce-ae71-ef9c1af349d5",
   "metadata": {},
   "source": [
    "Code to grid the eight plots. Too small."
   ]
  },
  {
   "cell_type": "code",
   "execution_count": null,
   "id": "26053a39-f991-42a4-932c-d152afc87257",
   "metadata": {},
   "outputs": [],
   "source": [
    "# fig = plt.figure(figsize=(4, 4))\n",
    "# plt.colorbar('off')\n",
    "# plt.axis('off')\n",
    "\n",
    "# for p in range(8):\n",
    "#     plt.sca(ax[i, j])\n",
    "#     display = afwDisplay.Display(frame=fig)\n",
    "#     display.scale('linear', 'zscale')\n",
    "#     display.mtv(my_image.image)\n",
    "#     ax[i, j].set_axis_off()\n",
    "# plt.tight_layout()\n",
    "# plt.show()"
   ]
  },
  {
   "cell_type": "markdown",
   "id": "392cdd62-0bb8-4c73-8a6e-acdb2d4a6661",
   "metadata": {},
   "source": [
    "Nothing above jumped out as particularly worrisome, in terms of big low-z galaxies getting high redshifts.\n",
    "\n",
    "But try looking across the whole tract for potential photo-z outliers and assess their impact."
   ]
  },
  {
   "cell_type": "markdown",
   "id": "f11fea1c-9be4-47d4-8df8-2dda904de4de",
   "metadata": {},
   "source": [
    "## Explore PZ outliers\n",
    "\n",
    "First check how many from the PZ catalog are duplicates."
   ]
  },
  {
   "cell_type": "code",
   "execution_count": null,
   "id": "466e915f-f59c-40bb-8139-360e3fc95cbf",
   "metadata": {},
   "outputs": [],
   "source": [
    "tx = np.where(object_table['detect_isPrimary'][object_ix])[0]\n",
    "print(len(tx), ' out of ', len(object_ix), ' are non-duplicate objects')\n",
    "del tx"
   ]
  },
  {
   "cell_type": "markdown",
   "id": "877b719c-a472-41bb-b7ef-ce8314737807",
   "metadata": {},
   "source": [
    "### Too bright\n",
    "\n",
    "Plot r mag vs. photo-z.\n",
    "\n",
    "Objects that are 'too faint' for their PZ aren't a worry.\n",
    "\n",
    "But objects that are 'too bright' for their PZ, those are a concern."
   ]
  },
  {
   "cell_type": "code",
   "execution_count": null,
   "id": "2572a84e-9a5a-49a0-8cf1-8bb2f49b6ca3",
   "metadata": {},
   "outputs": [],
   "source": [
    "from astropy.cosmology import FlatLambdaCDM\n",
    "cosmo = FlatLambdaCDM(H0=70, Om0=0.3)"
   ]
  },
  {
   "cell_type": "markdown",
   "id": "0e41c4e4-47fc-4b7b-956c-9a794a01dee7",
   "metadata": {},
   "source": [
    "$\\mu = m-M$\n",
    "\n",
    "The brightest galaxy is about $M = -22$ mag.\n",
    "\n",
    "Draw a line to represent $m$ vs. $z$.\n",
    "\n",
    "This is wrong due to K corrections etc. but just to see."
   ]
  },
  {
   "cell_type": "code",
   "execution_count": null,
   "id": "72690774-ae8c-4122-9658-3462248966d8",
   "metadata": {},
   "outputs": [],
   "source": [
    "fig = plt.figure(figsize=(6, 4))\n",
    "tx = np.where((object_table['detect_isPrimary'][object_ix]) &\n",
    "              (object_table['refExtendedness'][object_ix] == 1))[0]\n",
    "plt.plot(object_pz[tx], object_rmag[tx],\n",
    "         'o', ms=2, mew=0, alpha=0.1, color='black')\n",
    "\n",
    "tmpz = (np.arange(300) + 1)/100\n",
    "dmod = cosmo.distmod(tmpz)\n",
    "yvals = dmod.value - 22.0\n",
    "plt.plot(tmpz, yvals)\n",
    "del tmpz, dmod, yvals\n",
    "\n",
    "plt.xlabel('pz')\n",
    "plt.ylabel('r mag')\n",
    "plt.ylim([15, 30])\n",
    "plt.show()\n",
    "del tx"
   ]
  },
  {
   "cell_type": "markdown",
   "id": "12269729-8f1a-422c-95e7-262a8fe73f6d",
   "metadata": {},
   "source": [
    "Identify the too-bright galaxies if they're a mag brighter than the line."
   ]
  },
  {
   "cell_type": "code",
   "execution_count": null,
   "id": "61ef53bf-863d-413a-8374-f3c7a51575e8",
   "metadata": {},
   "outputs": [],
   "source": [
    "object_flag_bright = np.zeros(len(object_ids), dtype='int')\n",
    "\n",
    "tmpz = (np.arange(150) + 1)/100\n",
    "dmod = cosmo.distmod(tmpz)\n",
    "yvals = dmod.value - 22.0\n",
    "for b,zbin in enumerate(tmpz):\n",
    "    if b > 0:\n",
    "        tx = np.where((object_pz > tmpz[b-1]) &\n",
    "                      (object_pz <= tmpz[b]) &\n",
    "                      (object_rmag < yvals[b]-1.0))[0]\n",
    "        object_flag_bright[tx] = 1\n",
    "        del tx\n",
    "\n",
    "tx = np.where((object_pz > tmpz[-1]) &\n",
    "              (object_rmag < yvals[-1]-1.0))[0]\n",
    "object_flag_bright[tx] = 1\n",
    "del tx\n",
    "del tmpz, dmod, yvals\n",
    "\n",
    "tx = np.where(object_flag_bright == 1)[0]\n",
    "print(len(tx), ' out of ', len(object_ids), ' flagged; fraction ',\n",
    "      np.round(len(tx)/len(object_ids),3))"
   ]
  },
  {
   "cell_type": "code",
   "execution_count": null,
   "id": "aff18f07-cf50-48c4-b694-6b59102a878b",
   "metadata": {},
   "outputs": [],
   "source": [
    "fig = plt.figure(figsize=(6, 4))\n",
    "tx = np.where((object_table['detect_isPrimary'][object_ix]) &\n",
    "              (object_table['refExtendedness'][object_ix] == 1))[0]\n",
    "plt.plot(object_pz[tx], object_rmag[tx],\n",
    "         'o', ms=2, mew=0, alpha=0.1, color='black')\n",
    "\n",
    "tx = np.where((object_table['detect_isPrimary'][object_ix]) &\n",
    "              (object_table['refExtendedness'][object_ix] == 1) &\n",
    "              (object_flag_bright == 1))[0]\n",
    "plt.plot(object_pz[tx], object_rmag[tx],\n",
    "         'o', ms=1, mew=0, alpha=1, color='red')\n",
    "\n",
    "plt.xlabel('pz')\n",
    "plt.ylabel('r mag')\n",
    "plt.ylim([15, 30])\n",
    "plt.show()\n",
    "del tx"
   ]
  },
  {
   "cell_type": "markdown",
   "id": "09275179-470e-4ac4-a226-a1eafc71cd0e",
   "metadata": {},
   "source": [
    "### Too big\n",
    "\n",
    "Objects that are 'too big' for their PZ are also a worry.\n",
    "\n",
    "#### Footprint area\n",
    "\n",
    "Is `footprintArea` an OK way to identify 'too big' objects?\n",
    "\n",
    "For a radius = 100 kpc galaxy (a very big galaxy).\n",
    "\n",
    "As a funtion of redshift:\n",
    "* DA = angular diameter distance (Mpc/radian)\n",
    "* scale = kpc / `\"`\n",
    "* size = diameter in `\"`\n",
    "* pix = diameter in pixels\n",
    "* area = approx max footprint area"
   ]
  },
  {
   "cell_type": "code",
   "execution_count": null,
   "id": "5e6dd815-2542-421f-a3ae-afd181403069",
   "metadata": {},
   "outputs": [],
   "source": [
    "fig = plt.figure(figsize=(6, 4))\n",
    "tx = np.where((object_table['detect_isPrimary'][object_ix]) &\n",
    "              (object_table['refExtendedness'][object_ix] == 1))[0]\n",
    "plt.plot(object_pz[tx], np.log10(object_table['footprintArea'][object_ix[tx]]),\n",
    "         'o', ms=2, mew=0, alpha=0.1, color='black')\n",
    "\n",
    "radius = 100 # kpc\n",
    "tmpz = (np.arange(300) + 1)/100\n",
    "DA = cosmo.angular_diameter_distance(tmpz)\n",
    "scale = 1000.0 * DA.value / (np.rad2deg(1.0) * 3600.0)\n",
    "size = radius / scale\n",
    "pix = size / 0.2\n",
    "area = pix**2\n",
    "plt.plot(tmpz, np.log10(area))\n",
    "del radius, tmpz, DA, scale, size, pix, area\n",
    "\n",
    "plt.xlabel('pz')\n",
    "plt.ylabel('log footprint area')\n",
    "plt.ylim([1.8, 5.0])\n",
    "plt.show()\n",
    "del tx"
   ]
  },
  {
   "cell_type": "code",
   "execution_count": null,
   "id": "f017ae10-ef6b-4882-9414-2326dc25c705",
   "metadata": {},
   "outputs": [],
   "source": [
    "object_flag_big = np.zeros(len(object_ids), dtype='int')\n",
    "\n",
    "radius = 100 # kpc\n",
    "tmpz = (np.arange(300) + 1)/100\n",
    "DA = cosmo.angular_diameter_distance(tmpz)\n",
    "scale = 1000.0 * DA.value / (np.rad2deg(1.0) * 3600.0)\n",
    "size = radius / scale\n",
    "pix = size / 0.2\n",
    "area = pix**2\n",
    "\n",
    "for b,zbin in enumerate(tmpz):\n",
    "    if b > 0:\n",
    "        tx = np.where((object_pz > tmpz[b-1]) &\n",
    "                      (object_pz <= tmpz[b]) &\n",
    "                      (object_table['footprintArea'][object_ix]\n",
    "                       > area[b]))[0]\n",
    "        object_flag_big[tx] = 1\n",
    "        del tx\n",
    "del radius, tmpz, DA, scale, size, pix, area\n",
    "\n",
    "tx = np.where(object_flag_big == 1)[0]\n",
    "print(len(tx), ' out of ', len(object_ids), ' flagged; fraction ',\n",
    "      np.round(len(tx)/len(object_ids),3))"
   ]
  },
  {
   "cell_type": "code",
   "execution_count": null,
   "id": "5af05e14-2c40-4be6-bf90-f3fe7097ffba",
   "metadata": {},
   "outputs": [],
   "source": [
    "fig = plt.figure(figsize=(6, 4))\n",
    "\n",
    "tx = np.where((object_table['detect_isPrimary'][object_ix]) &\n",
    "              (object_table['refExtendedness'][object_ix] == 1))[0]\n",
    "plt.plot(object_pz[tx], np.log10(object_table['footprintArea'][object_ix[tx]]),\n",
    "         'o', ms=2, mew=0, alpha=0.1, color='black')\n",
    "\n",
    "tx = np.where((object_table['detect_isPrimary'][object_ix]) &\n",
    "              (object_table['refExtendedness'][object_ix] == 1) &\n",
    "              (object_flag_big == 1))[0]\n",
    "plt.plot(object_pz[tx], np.log10(object_table['footprintArea'][object_ix[tx]]),\n",
    "         'o', ms=1, mew=0, alpha=1, color='red')\n",
    "\n",
    "plt.xlabel('pz')\n",
    "plt.ylabel('log footprint area')\n",
    "plt.ylim([1.8, 5.0])\n",
    "plt.show()\n",
    "del tx"
   ]
  },
  {
   "cell_type": "markdown",
   "id": "e538f71c-dec7-434d-80dd-da7e08d9cef0",
   "metadata": {},
   "source": [
    "#### Model profile fits\n",
    "\n",
    "`r_bdReB` / `r_bdReD` are the Half-light ellipse of the de Vaucouleurs / exponential component fits in pixels squared."
   ]
  },
  {
   "cell_type": "code",
   "execution_count": null,
   "id": "ded87545-79de-4ee0-ba3c-8fefa2f79ea5",
   "metadata": {},
   "outputs": [],
   "source": [
    "tx = np.where((object_table['detect_isPrimary'][object_ix]) &\n",
    "              (object_table['refExtendedness'][object_ix] == 1))[0]\n",
    "fig = plt.figure(figsize=(6, 4))\n",
    "plt.plot(object_pz[tx], np.log10(object_table['r_bdReB'][object_ix[tx]]),\n",
    "         'o', ms=2, mew=0, alpha=0.1, color='black')\n",
    "plt.axvline(0.05, alpha=0.5)\n",
    "plt.xlabel('pz')\n",
    "plt.ylabel('log r_bdReB')\n",
    "plt.show()\n",
    "fig = plt.figure(figsize=(6, 4))\n",
    "plt.plot(object_pz[tx], np.log10(object_table['r_bdReD'][object_ix[tx]]),\n",
    "         'o', ms=2, mew=0, alpha=0.1, color='black')\n",
    "plt.axvline(0.05, alpha=0.5)\n",
    "plt.xlabel('pz')\n",
    "plt.ylabel('log r_bdReD')\n",
    "plt.show()\n",
    "del tx"
   ]
  },
  {
   "cell_type": "markdown",
   "id": "03b35d1c-5f14-42cb-b5e0-8ba74f6e4102",
   "metadata": {},
   "source": [
    "### Mark too bright and too big on patches\n",
    "\n",
    "First identify the patches that have a lot of outliers."
   ]
  },
  {
   "cell_type": "code",
   "execution_count": null,
   "id": "e4bcbfb1-b061-4241-96ef-2eb60682b8ec",
   "metadata": {},
   "outputs": [],
   "source": [
    "tx = np.where((object_flag_bright == 1) & (object_flag_big == 1))[0]\n",
    "print(len(tx))\n",
    "\n",
    "values, counts = np.unique(object_table['patch'][object_ix[tx]], return_counts=True)\n",
    "sx = np.flip(np.argsort(counts))\n",
    "for i in range(10):\n",
    "    print(values[sx[i]], counts[sx[i]])\n",
    "\n",
    "use_patches = values[sx[range(10)]]\n",
    "print(use_patches)\n",
    "del tx, values, counts, sx"
   ]
  },
  {
   "cell_type": "markdown",
   "id": "7a44cc8f-e98f-4432-8cd6-ee54c618cd2f",
   "metadata": {},
   "source": [
    "Display each patch and mark the too big and too bright on them."
   ]
  },
  {
   "cell_type": "code",
   "execution_count": null,
   "id": "aaf4aa5b-e5ad-4639-8203-73bc518dea4b",
   "metadata": {},
   "outputs": [],
   "source": [
    "for use_patch in use_patches:\n",
    "    my_image = butler.get('deepCoadd',\n",
    "                      tract=my_tract, patch=use_patch,\n",
    "                      band='r', skymap='lsst_cells_v1')\n",
    "    my_wcs = my_image.getWcs()\n",
    "\n",
    "    fig, ax = plt.subplots(figsize=(8, 8))\n",
    "    display = afwDisplay.Display(frame=fig)\n",
    "    display.scale('asinh', 'zscale')\n",
    "    display.mtv(my_image.image)\n",
    "    ax.set_axis_off()\n",
    "\n",
    "    tx1 = np.where((object_flag_bright == 1) & \n",
    "                   (object_flag_big == 0) &\n",
    "                   (object_table['patch'][object_ix] == use_patch) &\n",
    "                   (object_table['detect_isPrimary'][object_ix]))[0]\n",
    "    tx2 = np.where((object_flag_bright == 0) & \n",
    "                   (object_flag_big == 1) &\n",
    "                   (object_table['patch'][object_ix] == use_patch) &\n",
    "                   (object_table['detect_isPrimary'][object_ix]))[0]\n",
    "    tx3 = np.where((object_flag_bright == 1) & \n",
    "                  (object_flag_big == 1) &\n",
    "                  (object_table['patch'][object_ix] == use_patch) &\n",
    "                  (object_table['detect_isPrimary'][object_ix]))[0]\n",
    "    with display.Buffering():\n",
    "        if len(tx1) > 0:\n",
    "            print('cyan is too bright, but not too big')\n",
    "            for x in tx1:\n",
    "                coord = lsst.geom.SpherePoint(object_ra[x], object_dec[x],\n",
    "                                              lsst.geom.degrees)\n",
    "                xy = my_wcs.skyToPixel(coord)\n",
    "                display.dot('o', xy.getX(), xy.getY(), size=40, ctype='cyan')\n",
    "        if len(tx2) > 0:\n",
    "            print('yellow is too big, but not too bright')\n",
    "            for x in tx2:\n",
    "                coord = lsst.geom.SpherePoint(object_ra[x], object_dec[x],\n",
    "                                              lsst.geom.degrees)\n",
    "                xy = my_wcs.skyToPixel(coord)\n",
    "                display.dot('o', xy.getX(), xy.getY(), size=40, ctype='yellow')\n",
    "        if len(tx3) > 0:\n",
    "            print('majenta is too big and too bright')\n",
    "            for x in tx3:\n",
    "                coord = lsst.geom.SpherePoint(object_ra[x], object_dec[x],\n",
    "                                              lsst.geom.degrees)\n",
    "                xy = my_wcs.skyToPixel(coord)\n",
    "                display.dot('o', xy.getX(), xy.getY(), size=40, ctype='magenta')\n",
    "    del tx1, tx2, tx3\n",
    "    \n",
    "    plt.title('patch: ' + str(use_patch))\n",
    "    plt.show()"
   ]
  },
  {
   "cell_type": "code",
   "execution_count": null,
   "id": "8cdfe7aa-cde8-41af-987d-6d2c6307f732",
   "metadata": {},
   "outputs": [],
   "source": []
  }
 ],
 "metadata": {
  "kernelspec": {
   "display_name": "LSST",
   "language": "python",
   "name": "lsst"
  },
  "language_info": {
   "codemirror_mode": {
    "name": "ipython",
    "version": 3
   },
   "file_extension": ".py",
   "mimetype": "text/x-python",
   "name": "python",
   "nbconvert_exporter": "python",
   "pygments_lexer": "ipython3",
   "version": "3.12.9"
  }
 },
 "nbformat": 4,
 "nbformat_minor": 5
}
